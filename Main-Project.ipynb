{
 "cells": [
  {
   "cell_type": "markdown",
   "id": "22910ea9-b66b-45b6-8dc3-567200f5a192",
   "metadata": {},
   "source": [
    "## Problem \n",
    "\n",
    "### The problem being examined today is customers leaving the telco firm. This is referred to as 'churn.' We know that customers leave, but the firm would like to understand why it is that they leave. While customers can leave for any reason at any time, there are factors which will influence their choice to leave. This presentation will seek to understand and predict, to some degree, factors that the telco firm has control over which may lead to customers leaving them. "
   ]
  },
  {
   "cell_type": "code",
   "execution_count": 1,
   "id": "126ebc5b-6dfb-4695-88b5-7ed1accce5a2",
   "metadata": {},
   "outputs": [
    {
     "name": "stdout",
     "output_type": "stream",
     "text": [
      "The following datasets are available:\n",
      "telco\n"
     ]
    }
   ],
   "source": [
    "# standard modules\n",
    "import seaborn as sns\n",
    "import pandas as pd\n",
    "import numpy as np\n",
    "import os\n",
    "#import math\n",
    "\n",
    "# Modules for Displaying Figures\n",
    "import matplotlib.pyplot as plt\n",
    "import scipy.stats as stats\n",
    "\n",
    "\n",
    "# Data Science Modules \n",
    "from sklearn.tree import DecisionTreeClassifier, plot_tree, export_text\n",
    "from sklearn.model_selection import train_test_split\n",
    "from sklearn.metrics import classification_report, confusion_matrix, plot_confusion_matrix, ConfusionMatrixDisplay\n",
    "from sklearn.ensemble import RandomForestClassifier\n",
    "from sklearn.linear_model import LogisticRegression\n",
    "from sklearn.model_selection import train_test_split\n",
    "from sklearn.neighbors import KNeighborsClassifier\n",
    "\n",
    "# My modules\n",
    "import src.acquire as ac\n",
    "import src.prepare as pp\n",
    "import src.helper as helper\n",
    "import src.evaluate as evaluate\n",
    "\n",
    "# Turn off the red warnings\n",
    "import warnings\n",
    "warnings.filterwarnings(\"ignore\")"
   ]
  },
  {
   "cell_type": "code",
   "execution_count": 2,
   "id": "59997c42-ccd3-4350-8c98-3fa1eec0df9f",
   "metadata": {},
   "outputs": [],
   "source": [
    "# quick data acquisition\n",
    "telco = ac.get_telco_data()"
   ]
  },
  {
   "cell_type": "markdown",
   "id": "dc0ca40c-3b85-47f9-a4bc-f4adf7545b88",
   "metadata": {},
   "source": [
    "## Hypothesis from theory:\n",
    "- tenure will have a relationship with churning (longer a customer, less likely to leave)\n",
    "- price will have a relationship with churning (the higher the price, the more likely a person is to leave)\n",
    "- tenure and price will correlate, showing a relationship where one effects the other "
   ]
  },
  {
   "cell_type": "markdown",
   "id": "61a9bd11-c728-4181-abf2-433dfa8de364",
   "metadata": {},
   "source": [
    "## Dictionary of key features in data:\n",
    ">>\n",
    "churn - Customers who left telco  \n",
    "tenure - The duration a customer stayed with telco in the 6 year window  \n",
    "monthly_charges - the amount charged to the customer for services which telco provided  \n",
    ">>\n",
    "\n",
    "- Several other desciptive features per customer remain in the dataset but they are not theoretically important for our model. Those features will undoutably have issues with multicollinearity which our currently used tools can not adequately handle the issue which will be addressed at the end. For now, understand we can only mitigate the issue with a simple model. \n",
    "\n",
    "- Besides, a simple model performs quickly. "
   ]
  },
  {
   "cell_type": "code",
   "execution_count": 3,
   "id": "adbd91d6-19f0-4a64-b9ff-76c8951a9662",
   "metadata": {},
   "outputs": [
    {
     "data": {
      "text/html": [
       "<div>\n",
       "<style scoped>\n",
       "    .dataframe tbody tr th:only-of-type {\n",
       "        vertical-align: middle;\n",
       "    }\n",
       "\n",
       "    .dataframe tbody tr th {\n",
       "        vertical-align: top;\n",
       "    }\n",
       "\n",
       "    .dataframe thead th {\n",
       "        text-align: right;\n",
       "    }\n",
       "</style>\n",
       "<table border=\"1\" class=\"dataframe\">\n",
       "  <thead>\n",
       "    <tr style=\"text-align: right;\">\n",
       "      <th></th>\n",
       "      <th>tenure</th>\n",
       "      <th>monthly_charges</th>\n",
       "    </tr>\n",
       "    <tr>\n",
       "      <th>contract_type</th>\n",
       "      <th></th>\n",
       "      <th></th>\n",
       "    </tr>\n",
       "  </thead>\n",
       "  <tbody>\n",
       "    <tr>\n",
       "      <th>Month-to-month</th>\n",
       "      <td>18.04</td>\n",
       "      <td>66.40</td>\n",
       "    </tr>\n",
       "    <tr>\n",
       "      <th>One year</th>\n",
       "      <td>42.04</td>\n",
       "      <td>65.05</td>\n",
       "    </tr>\n",
       "    <tr>\n",
       "      <th>Two year</th>\n",
       "      <td>56.74</td>\n",
       "      <td>60.77</td>\n",
       "    </tr>\n",
       "  </tbody>\n",
       "</table>\n",
       "</div>"
      ],
      "text/plain": [
       "                tenure  monthly_charges\n",
       "contract_type                          \n",
       "Month-to-month   18.04            66.40\n",
       "One year         42.04            65.05\n",
       "Two year         56.74            60.77"
      ]
     },
     "execution_count": 3,
     "metadata": {},
     "output_type": "execute_result"
    }
   ],
   "source": [
    "demo = telco[['tenure','monthly_charges','contract_type']].groupby(['contract_type']).mean()\n",
    "#demo = telco.groupby(['contract_type']).mean().drop(columns=['payment_type_id', 'internet_service_type_id', 'contract_type_id', 'senior_citizen'])\n",
    "round(demo,2)"
   ]
  },
  {
   "cell_type": "code",
   "execution_count": 4,
   "id": "bdff765c-b123-406f-bbcd-ba6199814fab",
   "metadata": {},
   "outputs": [
    {
     "data": {
      "text/html": [
       "<div>\n",
       "<style scoped>\n",
       "    .dataframe tbody tr th:only-of-type {\n",
       "        vertical-align: middle;\n",
       "    }\n",
       "\n",
       "    .dataframe tbody tr th {\n",
       "        vertical-align: top;\n",
       "    }\n",
       "\n",
       "    .dataframe thead th {\n",
       "        text-align: right;\n",
       "    }\n",
       "</style>\n",
       "<table border=\"1\" class=\"dataframe\">\n",
       "  <thead>\n",
       "    <tr style=\"text-align: right;\">\n",
       "      <th></th>\n",
       "      <th>monthly_charges</th>\n",
       "      <th>tenure</th>\n",
       "    </tr>\n",
       "  </thead>\n",
       "  <tbody>\n",
       "    <tr>\n",
       "      <th>monthly_charges</th>\n",
       "      <td>1.00</td>\n",
       "      <td>0.25</td>\n",
       "    </tr>\n",
       "    <tr>\n",
       "      <th>tenure</th>\n",
       "      <td>0.25</td>\n",
       "      <td>1.00</td>\n",
       "    </tr>\n",
       "  </tbody>\n",
       "</table>\n",
       "</div>"
      ],
      "text/plain": [
       "                 monthly_charges  tenure\n",
       "monthly_charges             1.00    0.25\n",
       "tenure                      0.25    1.00"
      ]
     },
     "execution_count": 4,
     "metadata": {},
     "output_type": "execute_result"
    }
   ],
   "source": [
    "correlate = telco[['churn','monthly_charges','tenure']]\n",
    "round(correlate.corr(),2)"
   ]
  },
  {
   "cell_type": "code",
   "execution_count": null,
   "id": "4a484b32-860c-42f4-92f0-e562750bba7e",
   "metadata": {},
   "outputs": [],
   "source": []
  },
  {
   "cell_type": "code",
   "execution_count": 5,
   "id": "2d67dea6-2d00-435c-8605-fd6d6424cb7f",
   "metadata": {},
   "outputs": [],
   "source": [
    "# begin gathering our data and transforming it to useful for analysis\n",
    "train, validate, test, x_train, y_train, x_validate, y_validate, x_test, y_test = pp.model_telco_data(telco)\n",
    "base = evaluate.baseline(telco, 'churn')\n",
    "\n",
    "# running models before discussion begins\n",
    "decision_tree = evaluate.decision_tree_model(x_train, y_train, x_test, y_test)\n",
    "knn7 = evaluate.knn7_model(x_train, y_train, x_test, y_test)\n",
    "knn10 = evaluate.knn10_model(x_train, y_train, x_test, y_test)\n",
    "models_compared = [base, decision_tree, knn7, knn10]\n",
    "telco = ac.get_telco_data()"
   ]
  },
  {
   "cell_type": "code",
   "execution_count": 6,
   "id": "5eb31020-a389-48b7-83c8-a3d61d625ae8",
   "metadata": {},
   "outputs": [
    {
     "data": {
      "text/html": [
       "<div>\n",
       "<style scoped>\n",
       "    .dataframe tbody tr th:only-of-type {\n",
       "        vertical-align: middle;\n",
       "    }\n",
       "\n",
       "    .dataframe tbody tr th {\n",
       "        vertical-align: top;\n",
       "    }\n",
       "\n",
       "    .dataframe thead th {\n",
       "        text-align: right;\n",
       "    }\n",
       "</style>\n",
       "<table border=\"1\" class=\"dataframe\">\n",
       "  <thead>\n",
       "    <tr style=\"text-align: right;\">\n",
       "      <th></th>\n",
       "      <th>payment_type_id</th>\n",
       "      <th>internet_service_type_id</th>\n",
       "      <th>contract_type_id</th>\n",
       "      <th>senior_citizen</th>\n",
       "      <th>tenure</th>\n",
       "      <th>monthly_charges</th>\n",
       "    </tr>\n",
       "    <tr>\n",
       "      <th>churn</th>\n",
       "      <th></th>\n",
       "      <th></th>\n",
       "      <th></th>\n",
       "      <th></th>\n",
       "      <th></th>\n",
       "      <th></th>\n",
       "    </tr>\n",
       "  </thead>\n",
       "  <tbody>\n",
       "    <tr>\n",
       "      <th>No</th>\n",
       "      <td>12920</td>\n",
       "      <td>9799</td>\n",
       "      <td>9775</td>\n",
       "      <td>666</td>\n",
       "      <td>194387</td>\n",
       "      <td>316985.75</td>\n",
       "    </tr>\n",
       "    <tr>\n",
       "      <th>Yes</th>\n",
       "      <td>3389</td>\n",
       "      <td>3392</td>\n",
       "      <td>2131</td>\n",
       "      <td>476</td>\n",
       "      <td>33603</td>\n",
       "      <td>139130.85</td>\n",
       "    </tr>\n",
       "  </tbody>\n",
       "</table>\n",
       "</div>"
      ],
      "text/plain": [
       "       payment_type_id  internet_service_type_id  contract_type_id  \\\n",
       "churn                                                                \n",
       "No               12920                      9799              9775   \n",
       "Yes               3389                      3392              2131   \n",
       "\n",
       "       senior_citizen  tenure  monthly_charges  \n",
       "churn                                           \n",
       "No                666  194387        316985.75  \n",
       "Yes               476   33603        139130.85  "
      ]
     },
     "execution_count": 6,
     "metadata": {},
     "output_type": "execute_result"
    }
   ],
   "source": [
    "telco.groupby(['churn']).sum()"
   ]
  },
  {
   "cell_type": "code",
   "execution_count": 7,
   "id": "b4cf3f66-6768-4fb5-8e2c-a24f82e628c1",
   "metadata": {},
   "outputs": [
    {
     "data": {
      "image/png": "[encoded data removed]",
      "text/plain": [
       "<Figure size 640x480 with 1 Axes>"
      ]
     },
     "metadata": {},
     "output_type": "display_data"
    }
   ],
   "source": [
    "evaluate.make_pie(telco, 'churn')"
   ]
  },
  {
   "cell_type": "markdown",
   "id": "27656161-584f-4578-997f-8a6e818f3359",
   "metadata": {},
   "source": [
    "### Based on our graphic, we can see that a lot of telco's customers churned. This is what we will be investigating."
   ]
  },
  {
   "cell_type": "markdown",
   "id": "ac6e1462-25eb-45fe-88f1-8ef55377561f",
   "metadata": {},
   "source": [
    "## Run Tests to determine significance of prospective variables our hypothesis told us were important"
   ]
  },
  {
   "cell_type": "markdown",
   "id": "602d000f-5364-4000-9d82-d04812ed9c60",
   "metadata": {},
   "source": [
    "#### First, tenure's relationship to churn"
   ]
  },
  {
   "cell_type": "code",
   "execution_count": 8,
   "id": "87850417-ceac-496c-91f2-7f0bbb99e9c6",
   "metadata": {},
   "outputs": [
    {
     "name": "stdout",
     "output_type": "stream",
     "text": [
      "t = 31.58\n",
      "p = 0.00\n"
     ]
    }
   ],
   "source": [
    "tenure_t, tenure_p = evaluate.get_t_score(telco, 'tenure', 'churn')\n",
    "print(f't = {abs(tenure_t):.2f}')\n",
    "print(f'p = {tenure_p:.2f}')\n",
    "#2.015"
   ]
  },
  {
   "cell_type": "markdown",
   "id": "4693efcd-84f9-485c-a71a-dcc18b42e0c4",
   "metadata": {},
   "source": [
    "- With this score, there is a zero percent chance of there being a random sampling error. Based on our data, there is relationship between tenure and churn"
   ]
  },
  {
   "cell_type": "markdown",
   "id": "7b62405d-0ce5-4107-a766-4f740138d39b",
   "metadata": {},
   "source": [
    "#### Next, we evaluate the relationship between cost and churn. Monthly charges is the metric which explains how must a customer paid, on average during their tenure with the telco"
   ]
  },
  {
   "cell_type": "code",
   "execution_count": 9,
   "id": "5efa8bb4-e2c3-4f63-aca3-5a06cebd7982",
   "metadata": {},
   "outputs": [
    {
     "name": "stdout",
     "output_type": "stream",
     "text": [
      "t = 16.54\n",
      "p = 0.00\n"
     ]
    }
   ],
   "source": [
    "month_t, month_p = evaluate.get_t_score(telco, 'monthly_charges', 'churn')\n",
    "print(f't = {abs(month_t):.2f}')\n",
    "print(f'p = {month_p:.2f}')"
   ]
  },
  {
   "cell_type": "code",
   "execution_count": 10,
   "id": "dcdf51e9-0ff7-4e04-a239-6bf82662cccf",
   "metadata": {},
   "outputs": [],
   "source": [
    "t_test_comp = [2.015, abs(tenure_t),abs(month_t)]"
   ]
  },
  {
   "cell_type": "code",
   "execution_count": 11,
   "id": "1dc12dd2-cb3f-43e5-b443-c3a897677b01",
   "metadata": {},
   "outputs": [
    {
     "data": {
      "image/png": "[encoded data removed]",
      "text/plain": [
       "<Figure size 640x480 with 1 Axes>"
      ]
     },
     "metadata": {},
     "output_type": "display_data"
    }
   ],
   "source": [
    "evaluate.t_test_bar(t_test_comp)"
   ]
  },
  {
   "cell_type": "markdown",
   "id": "32ebe34c-e925-4675-9470-c43ed72e1818",
   "metadata": {},
   "source": [
    "- With this score, there is a zero percent chance of there being a random sampling error. Based on our data, there is a relationship between monthly charges and churn"
   ]
  },
  {
   "cell_type": "markdown",
   "id": "3bda3572-4713-4dde-a18a-ccc8b930556c",
   "metadata": {},
   "source": [
    "## Modeling\n",
    "\n",
    "### We will be using our hypothesized variables, tenure, monthly charges and several others from our initial dataset. While we did not test each variable for significance, it may be the case that with our machine learning algorithms, some kind of relationship may be able to be determined - regardless of how small."
   ]
  },
  {
   "cell_type": "markdown",
   "id": "87e8fad3-bd6a-4809-ac99-6334698b4b19",
   "metadata": {},
   "source": [
    "### In order to make a machine learning model which is useful, we first determine a benchmark that the model must be able to outperform."
   ]
  },
  {
   "cell_type": "code",
   "execution_count": 12,
   "id": "94e61b20-a994-4bc6-8918-aab0ef4697ba",
   "metadata": {},
   "outputs": [
    {
     "data": {
      "image/png": "[encoded data removed]",
      "text/plain": [
       "<Figure size 640x480 with 1 Axes>"
      ]
     },
     "metadata": {},
     "output_type": "display_data"
    },
    {
     "name": "stdout",
     "output_type": "stream",
     "text": [
      "Baseline accuracy is 73.46%\n"
     ]
    }
   ],
   "source": [
    "evaluate.baseline_bar(base)\n",
    "print(f\"Baseline accuracy is {round(evaluate.baseline(telco, 'churn')*100,2)}%\")"
   ]
  },
  {
   "cell_type": "markdown",
   "id": "d290004b-7c48-435b-a377-f58158338393",
   "metadata": {},
   "source": [
    "### We developed three models. Two based on the same algorithm, KNN and One based on a decision tree. The performance of the models is presented below"
   ]
  },
  {
   "cell_type": "code",
   "execution_count": 13,
   "id": "9c29f68a-f18b-4531-9fb6-87fbc8f9633b",
   "metadata": {},
   "outputs": [
    {
     "name": "stdout",
     "output_type": "stream",
     "text": [
      "[73.46, 77.9, 76.69, 78.54]\n"
     ]
    },
    {
     "data": {
      "image/png": "[encoded data removed]",
      "text/plain": [
       "<Figure size 640x480 with 1 Axes>"
      ]
     },
     "metadata": {},
     "output_type": "display_data"
    }
   ],
   "source": [
    "print(list(np.around(np.array(models_compared)*100, 2)))\n",
    "evaluate.models_bar(models_compared)"
   ]
  },
  {
   "cell_type": "code",
   "execution_count": 14,
   "id": "1427b196-9004-4465-b8e8-51d507bfbb17",
   "metadata": {},
   "outputs": [
    {
     "name": "stdout",
     "output_type": "stream",
     "text": [
      "[73.46, 77.9, 76.69, 78.54]\n"
     ]
    }
   ],
   "source": [
    "print(list(np.around(np.array(models_compared)*100, 2)))"
   ]
  },
  {
   "cell_type": "code",
   "execution_count": 18,
   "id": "377f5107-a998-4692-bd21-a2f168a7ba0f",
   "metadata": {},
   "outputs": [
    {
     "data": {
      "text/plain": [
       "0.05"
      ]
     },
     "execution_count": 18,
     "metadata": {},
     "output_type": "execute_result"
    }
   ],
   "source": [
    "round(knn10-base,2)"
   ]
  },
  {
   "cell_type": "markdown",
   "id": "89af39dc-3cb6-4a4b-9693-1d1ae9e3e023",
   "metadata": {},
   "source": [
    "# Based on the Models created, the KNN10 is best at predicting churn from customers. It beats the baseline by 5%."
   ]
  },
  {
   "cell_type": "code",
   "execution_count": 16,
   "id": "aa2d5a62-35f0-4f3a-a75e-778a61bdaf50",
   "metadata": {},
   "outputs": [
    {
     "data": {
      "text/plain": [
       "114276.91"
      ]
     },
     "execution_count": 16,
     "metadata": {},
     "output_type": "execute_result"
    }
   ],
   "source": [
    "round(evaluate.potential_income(),2)"
   ]
  },
  {
   "cell_type": "markdown",
   "id": "c9588d45-c79b-47f8-8866-f2c8da42313e",
   "metadata": {},
   "source": [
    "## What does that tell us? \n",
    "\n",
    "- First, it says that the customers who are with telco are less likely to leave after they have been there for a while. It may be the case that they feel comfortable and do not want to shop around for better deals. Or perhaps, the inconvenience of uninstalling and reinstalling a different service provider's offerings is greater than their desire to leave. \n",
    "\n",
    "- Next, price of services matter too. We found monthly charges to have a relationship to churn, so it may be the case that in order to 'lock down' telco's customers, a lower price may be used to keep the customer around for a while. \n",
    "\n",
    "- I project that using our thought experiment, that we might be able to capture about 5% of our churned customers using promotions or discounts or other methods to reduce price for customers who have shorter duration tenure with telco. If that is the case, over the past 6 year cycle, we would have earned an roughly $114,276 in addition to our actual earnings."
   ]
  },
  {
   "cell_type": "markdown",
   "id": "8df6d222-de76-432d-b5db-19997d5793d4",
   "metadata": {},
   "source": [
    "## Next Steps\n",
    "\n",
    "- We have a model which can be implemented now. It tells us that we should keep prices down and that our customers who stay longer will stay longer. We can do something with that.   \n",
    "\n",
    "- We can build a better, stronger model using linear regression for multivariate analysis between the customer features to deal with our statistical problem(s) from earlier. It might provide for us better ideas of what can be done to retain customers longer."
   ]
  },
  {
   "cell_type": "code",
   "execution_count": null,
   "id": "6a3a0283-55e5-4201-ab52-73f5cac30aa3",
   "metadata": {},
   "outputs": [],
   "source": []
  }
 ],
 "metadata": {
  "kernelspec": {
   "display_name": "Python 3 (ipykernel)",
   "language": "python",
   "name": "python3"
  },
  "language_info": {
   "codemirror_mode": {
    "name": "ipython",
    "version": 3
   },
   "file_extension": ".py",
   "mimetype": "text/x-python",
   "name": "python",
   "nbconvert_exporter": "python",
   "pygments_lexer": "ipython3",
   "version": "3.9.13"
  }
 },
 "nbformat": 4,
 "nbformat_minor": 5
}
