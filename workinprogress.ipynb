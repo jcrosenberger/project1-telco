{
 "cells": [
  {
   "cell_type": "code",
   "execution_count": 1,
   "id": "cf40e9fa-8367-4e7c-808a-9545d7d49d77",
   "metadata": {},
   "outputs": [
    {
     "name": "stdout",
     "output_type": "stream",
     "text": [
      "The following datasets are available:\n",
      "telco\n"
     ]
    }
   ],
   "source": [
    "# standard modules\n",
    "import seaborn as sns\n",
    "import pandas as pd\n",
    "import numpy as np\n",
    "import os\n",
    "#import math\n",
    "\n",
    "# Modules for Displaying Figures\n",
    "import matplotlib.pyplot as plt\n",
    "import scipy.stats as stats\n",
    "\n",
    "\n",
    "# Data Science Modules \n",
    "from sklearn.tree import DecisionTreeClassifier, plot_tree, export_text\n",
    "from sklearn.model_selection import train_test_split\n",
    "from sklearn.metrics import classification_report, confusion_matrix, plot_confusion_matrix, ConfusionMatrixDisplay\n",
    "from sklearn.ensemble import RandomForestClassifier\n",
    "from sklearn.linear_model import LogisticRegression\n",
    "from sklearn.model_selection import train_test_split\n",
    "from sklearn.neighbors import KNeighborsClassifier\n",
    "from sklearn.feature_selection import SelectKBest\n",
    "from sklearn.feature_selection import chi2\n",
    "\n",
    "# My modules\n",
    "import src.acquire as ac\n",
    "import src.prepare as pp\n",
    "import src.helper as helper\n",
    "import src.evaluate as evaluate\n",
    "\n",
    "# Turn off the red warnings\n",
    "import warnings\n",
    "warnings.filterwarnings(\"ignore\")"
   ]
  },
  {
   "cell_type": "code",
   "execution_count": 2,
   "id": "ee50f65d-fb0e-4ddf-9483-112587b38fdd",
   "metadata": {},
   "outputs": [],
   "source": [
    "# begin gathering our data and transforming it to useful for analysis\n",
    "telco = ac.get_telco_data()\n",
    "train, validate, test, x_train, y_train, x_validate, y_validate, x_test, y_test = pp.model_telco_data(telco)\n",
    "base = evaluate.baseline(telco, 'churn')\n",
    "\n",
    "# running models before discussion begins\n",
    "decision_tree = evaluate.decision_tree_model(x_train, y_train, x_test, y_test)\n",
    "knn7 = evaluate.knn7_model(x_train, y_train, x_test, y_test)\n",
    "knn10 = evaluate.knn10_model(x_train, y_train, x_test, y_test)\n",
    "models_compared = [base, decision_tree, knn7, knn10]\n",
    "df = ac.get_telco_data()"
   ]
  },
  {
   "cell_type": "code",
   "execution_count": 3,
   "id": "9f178aa5-2969-4699-9705-b5f3e0a543aa",
   "metadata": {},
   "outputs": [],
   "source": [
    "no_churn =df.churn=='No'"
   ]
  },
  {
   "cell_type": "code",
   "execution_count": 4,
   "id": "9a3dad2c-a9e4-4a77-9906-47b6464a3b06",
   "metadata": {},
   "outputs": [
    {
     "data": {
      "text/plain": [
       "0.2653698707936959"
      ]
     },
     "execution_count": 4,
     "metadata": {},
     "output_type": "execute_result"
    }
   ],
   "source": [
    "telco['churn'].value_counts(normalize=True)[1]"
   ]
  },
  {
   "cell_type": "code",
   "execution_count": 5,
   "id": "bdcdc2f7-acd8-42b2-96f0-da90bd1962df",
   "metadata": {},
   "outputs": [
    {
     "data": {
      "text/plain": [
       "37.56996521066873"
      ]
     },
     "execution_count": 5,
     "metadata": {},
     "output_type": "execute_result"
    }
   ],
   "source": [
    "no_churn =df.churn=='No'\n",
    "avg_no_churn_months = df[no_churn]['tenure'].mean()\n",
    "avg_no_churn_months"
   ]
  },
  {
   "cell_type": "code",
   "execution_count": 6,
   "id": "f8be2a7b-b5c9-49cc-add7-b85da79535e0",
   "metadata": {},
   "outputs": [
    {
     "data": {
      "text/plain": [
       "17.979133226324237"
      ]
     },
     "execution_count": 6,
     "metadata": {},
     "output_type": "execute_result"
    }
   ],
   "source": [
    "yes_churn =df.churn=='Yes'\n",
    "avg_yes_churn_months = df[yes_churn]['tenure'].mean()\n",
    "avg_yes_churn_months"
   ]
  },
  {
   "cell_type": "code",
   "execution_count": 9,
   "id": "01208590-e2c4-4b84-8ff1-53becf5ba3cd",
   "metadata": {},
   "outputs": [
    {
     "data": {
      "text/plain": [
       "114276.90882214584"
      ]
     },
     "execution_count": 9,
     "metadata": {},
     "output_type": "execute_result"
    }
   ],
   "source": [
    "potential_non_churn=(len(df[df.churn =='Yes']))*(knn10-base)\n",
    "extra_months = avg_no_churn_months - avg_yes_churn_months\n",
    "avg_charges = df['monthly_charges'].mean()\n",
    "potential_non_churn * extra_months * avg_charges * 0.95"
   ]
  },
  {
   "cell_type": "code",
   "execution_count": 8,
   "id": "6044669b-8c37-48d2-99c6-985c8c3f6642",
   "metadata": {},
   "outputs": [
    {
     "data": {
      "text/plain": [
       "114276.90882214584"
      ]
     },
     "execution_count": 8,
     "metadata": {},
     "output_type": "execute_result"
    }
   ],
   "source": [
    "evaluate.potential_income()"
   ]
  },
  {
   "cell_type": "code",
   "execution_count": 16,
   "id": "9a6b9810-c31d-42b4-8649-1e31addb4d7e",
   "metadata": {},
   "outputs": [
    {
     "name": "stdout",
     "output_type": "stream",
     "text": [
      "<class 'pandas.core.frame.DataFrame'>\n",
      "RangeIndex: 7043 entries, 0 to 7042\n",
      "Data columns (total 20 columns):\n",
      " #   Column                 Non-Null Count  Dtype  \n",
      "---  ------                 --------------  -----  \n",
      " 0   gender                 7043 non-null   object \n",
      " 1   senior_citizen         7043 non-null   int64  \n",
      " 2   partner                7043 non-null   object \n",
      " 3   dependents             7043 non-null   object \n",
      " 4   tenure                 7043 non-null   int64  \n",
      " 5   phone_service          7043 non-null   object \n",
      " 6   multiple_lines         7043 non-null   object \n",
      " 7   online_security        7043 non-null   object \n",
      " 8   online_backup          7043 non-null   object \n",
      " 9   device_protection      7043 non-null   object \n",
      " 10  tech_support           7043 non-null   object \n",
      " 11  streaming_tv           7043 non-null   object \n",
      " 12  streaming_movies       7043 non-null   object \n",
      " 13  paperless_billing      7043 non-null   object \n",
      " 14  monthly_charges        7043 non-null   float64\n",
      " 15  total_charges          7043 non-null   object \n",
      " 16  churn                  7043 non-null   object \n",
      " 17  contract_type          7043 non-null   object \n",
      " 18  internet_service_type  7043 non-null   object \n",
      " 19  payment_type           7043 non-null   object \n",
      "dtypes: float64(1), int64(2), object(17)\n",
      "memory usage: 1.1+ MB\n"
     ]
    }
   ],
   "source": [
    "telco.info()"
   ]
  },
  {
   "cell_type": "code",
   "execution_count": 6,
   "id": "409e09e2-34c2-4647-9c98-b363d4e21682",
   "metadata": {},
   "outputs": [],
   "source": [
    "target = train.iloc[:,0]\n",
    "independent = train.iloc[:,1:]"
   ]
  },
  {
   "cell_type": "code",
   "execution_count": 25,
   "id": "d5538785-db9e-4cd0-8c44-931f26137c18",
   "metadata": {},
   "outputs": [],
   "source": [
    "bestfeatures = SelectKBest(score_func=chi2, k=10)\n",
    "fit = bestfeatures.fit(independent,target)\n",
    "dfscores = pd.DataFrame(fit.scores_)\n",
    "dfcolumns = pd.DataFrame(independent.columns)\n",
    "\n",
    "#concat two dataframes for better visualization \n",
    "feature_scores = pd.concat([dfcolumns,dfscores],axis=1)\n",
    "\n",
    "# renaming the two columns to make sense\n",
    "feature_scores.columns = ['customer_features','score']\n",
    "\n",
    "\n",
    "feature_scores = feature_scores.nlargest(10, 'score')"
   ]
  },
  {
   "cell_type": "code",
   "execution_count": 30,
   "id": "0dd5127f-9339-4339-aab7-379522bbb49d",
   "metadata": {},
   "outputs": [
    {
     "data": {
      "text/plain": [
       "1                                tenure\n",
       "25        payment_type_Electronic check\n",
       "21               contract_type_Two year\n",
       "22    internet_service_type_Fiber optic\n",
       "Name: customer_features, dtype: object"
      ]
     },
     "execution_count": 30,
     "metadata": {},
     "output_type": "execute_result"
    }
   ],
   "source": [
    "feature_scores['customer_features']"
   ]
  },
  {
   "cell_type": "code",
   "execution_count": null,
   "id": "8592d213-d5cc-431d-8fad-12e2f3bf8af8",
   "metadata": {},
   "outputs": [],
   "source": []
  },
  {
   "cell_type": "code",
   "execution_count": null,
   "id": "184018b6-8e3d-487c-965a-c8482ab32e3e",
   "metadata": {},
   "outputs": [],
   "source": []
  }
 ],
 "metadata": {
  "kernelspec": {
   "display_name": "Python 3 (ipykernel)",
   "language": "python",
   "name": "python3"
  },
  "language_info": {
   "codemirror_mode": {
    "name": "ipython",
    "version": 3
   },
   "file_extension": ".py",
   "mimetype": "text/x-python",
   "name": "python",
   "nbconvert_exporter": "python",
   "pygments_lexer": "ipython3",
   "version": "3.9.13"
  }
 },
 "nbformat": 4,
 "nbformat_minor": 5
}
