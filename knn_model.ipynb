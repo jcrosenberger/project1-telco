{
 "cells": [
  {
   "cell_type": "code",
   "execution_count": 1,
   "id": "6022aa82-12d2-4ea5-9d0c-2ecdf978f1b6",
   "metadata": {},
   "outputs": [
    {
     "name": "stdout",
     "output_type": "stream",
     "text": [
      "The following datasets are available:\n",
      "telco\n"
     ]
    }
   ],
   "source": [
    "# standard modules\n",
    "import seaborn as sns\n",
    "import pandas as pd\n",
    "import numpy as np\n",
    "import os\n",
    "#import math\n",
    "\n",
    "# Modules for Displaying Figures\n",
    "import matplotlib.pyplot as plt\n",
    "import scipy.stats as stats\n",
    "\n",
    "\n",
    "# Data Science Modules \n",
    "from sklearn.tree import DecisionTreeClassifier, plot_tree, export_text\n",
    "from sklearn.model_selection import train_test_split\n",
    "from sklearn.metrics import classification_report, confusion_matrix, plot_confusion_matrix, ConfusionMatrixDisplay\n",
    "from sklearn.ensemble import RandomForestClassifier\n",
    "from sklearn.linear_model import LogisticRegression\n",
    "from sklearn.model_selection import train_test_split\n",
    "from sklearn.neighbors import KNeighborsClassifier\n",
    "from sklearn.feature_selection import SelectKBest\n",
    "from sklearn.feature_selection import chi2\n",
    "\n",
    "# My modules\n",
    "import src.acquire as ac\n",
    "import src.prepare as pp\n",
    "import src.helper as helper\n",
    "import src.evaluate as evaluate\n",
    "\n",
    "# Turn off the red warnings\n",
    "import warnings\n",
    "warnings.filterwarnings(\"ignore\")"
   ]
  },
  {
   "cell_type": "code",
   "execution_count": 17,
   "id": "2fc2a1ea-63c4-49c6-9654-a8b164213ad1",
   "metadata": {},
   "outputs": [],
   "source": [
    "telco = ac.get_telco_data()"
   ]
  },
  {
   "cell_type": "code",
   "execution_count": 19,
   "id": "63ccfa7f-7405-445a-9435-cae030f2d619",
   "metadata": {},
   "outputs": [
    {
     "name": "stdout",
     "output_type": "stream",
     "text": [
      "<class 'pandas.core.frame.DataFrame'>\n",
      "RangeIndex: 7043 entries, 0 to 7042\n",
      "Data columns (total 24 columns):\n",
      " #   Column                    Non-Null Count  Dtype  \n",
      "---  ------                    --------------  -----  \n",
      " 0   payment_type_id           7043 non-null   int64  \n",
      " 1   internet_service_type_id  7043 non-null   int64  \n",
      " 2   contract_type_id          7043 non-null   int64  \n",
      " 3   customer_id               7043 non-null   object \n",
      " 4   gender                    7043 non-null   object \n",
      " 5   senior_citizen            7043 non-null   int64  \n",
      " 6   partner                   7043 non-null   object \n",
      " 7   dependents                7043 non-null   object \n",
      " 8   tenure                    7043 non-null   int64  \n",
      " 9   phone_service             7043 non-null   object \n",
      " 10  multiple_lines            7043 non-null   object \n",
      " 11  online_security           7043 non-null   object \n",
      " 12  online_backup             7043 non-null   object \n",
      " 13  device_protection         7043 non-null   object \n",
      " 14  tech_support              7043 non-null   object \n",
      " 15  streaming_tv              7043 non-null   object \n",
      " 16  streaming_movies          7043 non-null   object \n",
      " 17  paperless_billing         7043 non-null   object \n",
      " 18  monthly_charges           7043 non-null   float64\n",
      " 19  total_charges             7043 non-null   object \n",
      " 20  churn                     7043 non-null   object \n",
      " 21  contract_type             7043 non-null   object \n",
      " 22  internet_service_type     7043 non-null   object \n",
      " 23  payment_type              7043 non-null   object \n",
      "dtypes: float64(1), int64(5), object(18)\n",
      "memory usage: 1.3+ MB\n"
     ]
    }
   ],
   "source": [
    "telco.info()"
   ]
  },
  {
   "cell_type": "code",
   "execution_count": 3,
   "id": "88b4b709-816d-4183-b5f0-5f0cdad44eb3",
   "metadata": {},
   "outputs": [],
   "source": [
    "train, validate, test, x_train, y_train, x_validate, y_validate, x_test, y_test = pp.model_telco_data(telco)"
   ]
  },
  {
   "cell_type": "code",
   "execution_count": 4,
   "id": "dfac3658-daa2-4010-9acb-765e9969f313",
   "metadata": {},
   "outputs": [
    {
     "name": "stdout",
     "output_type": "stream",
     "text": [
      "Baseline accuracy is 73.46%\n"
     ]
    }
   ],
   "source": [
    "# running a function which determines which way to default our target variable\n",
    "# We are using the 'churn' variable as target because we are attempting to predict\n",
    "print(f\"Baseline accuracy is {round(evaluate.baseline(telco, 'churn')*100,2)}%\")"
   ]
  },
  {
   "cell_type": "markdown",
   "id": "4a0dfc6a-a9b9-4373-b56e-6b28963a94ff",
   "metadata": {},
   "source": [
    "## Running KNN with N = 5 (default setting)"
   ]
  },
  {
   "cell_type": "code",
   "execution_count": 5,
   "id": "513c13ca-eaf9-42b5-a4bf-4bca6bb012a7",
   "metadata": {},
   "outputs": [
    {
     "data": {
      "text/html": [
       "<style>#sk-container-id-1 {color: black;background-color: white;}#sk-container-id-1 pre{padding: 0;}#sk-container-id-1 div.sk-toggleable {background-color: white;}#sk-container-id-1 label.sk-toggleable__label {cursor: pointer;display: block;width: 100%;margin-bottom: 0;padding: 0.3em;box-sizing: border-box;text-align: center;}#sk-container-id-1 label.sk-toggleable__label-arrow:before {content: \"▸\";float: left;margin-right: 0.25em;color: #696969;}#sk-container-id-1 label.sk-toggleable__label-arrow:hover:before {color: black;}#sk-container-id-1 div.sk-estimator:hover label.sk-toggleable__label-arrow:before {color: black;}#sk-container-id-1 div.sk-toggleable__content {max-height: 0;max-width: 0;overflow: hidden;text-align: left;background-color: #f0f8ff;}#sk-container-id-1 div.sk-toggleable__content pre {margin: 0.2em;color: black;border-radius: 0.25em;background-color: #f0f8ff;}#sk-container-id-1 input.sk-toggleable__control:checked~div.sk-toggleable__content {max-height: 200px;max-width: 100%;overflow: auto;}#sk-container-id-1 input.sk-toggleable__control:checked~label.sk-toggleable__label-arrow:before {content: \"▾\";}#sk-container-id-1 div.sk-estimator input.sk-toggleable__control:checked~label.sk-toggleable__label {background-color: #d4ebff;}#sk-container-id-1 div.sk-label input.sk-toggleable__control:checked~label.sk-toggleable__label {background-color: #d4ebff;}#sk-container-id-1 input.sk-hidden--visually {border: 0;clip: rect(1px 1px 1px 1px);clip: rect(1px, 1px, 1px, 1px);height: 1px;margin: -1px;overflow: hidden;padding: 0;position: absolute;width: 1px;}#sk-container-id-1 div.sk-estimator {font-family: monospace;background-color: #f0f8ff;border: 1px dotted black;border-radius: 0.25em;box-sizing: border-box;margin-bottom: 0.5em;}#sk-container-id-1 div.sk-estimator:hover {background-color: #d4ebff;}#sk-container-id-1 div.sk-parallel-item::after {content: \"\";width: 100%;border-bottom: 1px solid gray;flex-grow: 1;}#sk-container-id-1 div.sk-label:hover label.sk-toggleable__label {background-color: #d4ebff;}#sk-container-id-1 div.sk-serial::before {content: \"\";position: absolute;border-left: 1px solid gray;box-sizing: border-box;top: 0;bottom: 0;left: 50%;z-index: 0;}#sk-container-id-1 div.sk-serial {display: flex;flex-direction: column;align-items: center;background-color: white;padding-right: 0.2em;padding-left: 0.2em;position: relative;}#sk-container-id-1 div.sk-item {position: relative;z-index: 1;}#sk-container-id-1 div.sk-parallel {display: flex;align-items: stretch;justify-content: center;background-color: white;position: relative;}#sk-container-id-1 div.sk-item::before, #sk-container-id-1 div.sk-parallel-item::before {content: \"\";position: absolute;border-left: 1px solid gray;box-sizing: border-box;top: 0;bottom: 0;left: 50%;z-index: -1;}#sk-container-id-1 div.sk-parallel-item {display: flex;flex-direction: column;z-index: 1;position: relative;background-color: white;}#sk-container-id-1 div.sk-parallel-item:first-child::after {align-self: flex-end;width: 50%;}#sk-container-id-1 div.sk-parallel-item:last-child::after {align-self: flex-start;width: 50%;}#sk-container-id-1 div.sk-parallel-item:only-child::after {width: 0;}#sk-container-id-1 div.sk-dashed-wrapped {border: 1px dashed gray;margin: 0 0.4em 0.5em 0.4em;box-sizing: border-box;padding-bottom: 0.4em;background-color: white;}#sk-container-id-1 div.sk-label label {font-family: monospace;font-weight: bold;display: inline-block;line-height: 1.2em;}#sk-container-id-1 div.sk-label-container {text-align: center;}#sk-container-id-1 div.sk-container {/* jupyter's `normalize.less` sets `[hidden] { display: none; }` but bootstrap.min.css set `[hidden] { display: none !important; }` so we also need the `!important` here to be able to override the default hidden behavior on the sphinx rendered scikit-learn.org. See: https://github.com/scikit-learn/scikit-learn/issues/21755 */display: inline-block !important;position: relative;}#sk-container-id-1 div.sk-text-repr-fallback {display: none;}</style><div id=\"sk-container-id-1\" class=\"sk-top-container\"><div class=\"sk-text-repr-fallback\"><pre>KNeighborsClassifier()</pre><b>In a Jupyter environment, please rerun this cell to show the HTML representation or trust the notebook. <br />On GitHub, the HTML representation is unable to render, please try loading this page with nbviewer.org.</b></div><div class=\"sk-container\" hidden><div class=\"sk-item\"><div class=\"sk-estimator sk-toggleable\"><input class=\"sk-toggleable__control sk-hidden--visually\" id=\"sk-estimator-id-1\" type=\"checkbox\" checked><label for=\"sk-estimator-id-1\" class=\"sk-toggleable__label sk-toggleable__label-arrow\">KNeighborsClassifier</label><div class=\"sk-toggleable__content\"><pre>KNeighborsClassifier()</pre></div></div></div></div></div>"
      ],
      "text/plain": [
       "KNeighborsClassifier()"
      ]
     },
     "execution_count": 5,
     "metadata": {},
     "output_type": "execute_result"
    }
   ],
   "source": [
    "knn = KNeighborsClassifier()\n",
    "knn.fit(x_train, y_train)"
   ]
  },
  {
   "cell_type": "code",
   "execution_count": 6,
   "id": "c62df5d1-95c7-499d-9b0e-c2ba46cadef0",
   "metadata": {},
   "outputs": [],
   "source": [
    "knn = KNeighborsClassifier(n_neighbors=5)\n",
    "knn.fit(x_train, y_train)\n",
    "y_predictions = knn.predict(x_train)"
   ]
  },
  {
   "cell_type": "code",
   "execution_count": null,
   "id": "9d7d12ba-b5b6-4809-bae5-ef50f625f283",
   "metadata": {},
   "outputs": [],
   "source": []
  },
  {
   "cell_type": "code",
   "execution_count": 7,
   "id": "77cc7327-b5a2-4a5c-b0a8-0db289ee0251",
   "metadata": {},
   "outputs": [],
   "source": [
    "y_predictions = knn.predict(x_train)"
   ]
  },
  {
   "cell_type": "code",
   "execution_count": 8,
   "id": "a0b0bc4e-48a6-4ed6-bafe-b10e949655b1",
   "metadata": {},
   "outputs": [
    {
     "data": {
      "text/plain": [
       "array([0, 1, 0, ..., 0, 0, 1])"
      ]
     },
     "execution_count": 8,
     "metadata": {},
     "output_type": "execute_result"
    }
   ],
   "source": [
    "y_predictions"
   ]
  },
  {
   "cell_type": "code",
   "execution_count": 9,
   "id": "fd189d8a-0888-42b5-941a-e61870bde043",
   "metadata": {},
   "outputs": [
    {
     "name": "stdout",
     "output_type": "stream",
     "text": [
      "Accuracy of KNN classifier on training set: 0.84\n"
     ]
    }
   ],
   "source": [
    "print('Accuracy of KNN classifier on training set: {:.2f}'\n",
    "     .format(knn.score(x_train, y_train)))"
   ]
  },
  {
   "cell_type": "code",
   "execution_count": 10,
   "id": "4a126314-0692-413e-9a88-96a32206cbb8",
   "metadata": {},
   "outputs": [
    {
     "data": {
      "text/plain": [
       "array([[2627,  264],\n",
       "       [ 376,  670]])"
      ]
     },
     "execution_count": 10,
     "metadata": {},
     "output_type": "execute_result"
    }
   ],
   "source": [
    "confusion_matrix(y_train, y_predictions)"
   ]
  },
  {
   "cell_type": "code",
   "execution_count": 11,
   "id": "b3dd51a7-504f-4af8-a364-8eaae3ddaea0",
   "metadata": {},
   "outputs": [
    {
     "name": "stdout",
     "output_type": "stream",
     "text": [
      "              precision    recall  f1-score   support\n",
      "\n",
      "           0       0.87      0.91      0.89      2891\n",
      "           1       0.72      0.64      0.68      1046\n",
      "\n",
      "    accuracy                           0.84      3937\n",
      "   macro avg       0.80      0.77      0.78      3937\n",
      "weighted avg       0.83      0.84      0.83      3937\n",
      "\n"
     ]
    }
   ],
   "source": [
    "print(classification_report(y_train, y_predictions))"
   ]
  },
  {
   "cell_type": "code",
   "execution_count": 12,
   "id": "aa1eac91-d0db-4911-bf44-548ef3134a61",
   "metadata": {},
   "outputs": [
    {
     "name": "stdout",
     "output_type": "stream",
     "text": [
      "Accuracy: 83.74\n",
      "True Positive Rate: 64.05\n",
      "False Positive Rate: 9.13\n",
      "True Negative Rate: 90.87\n",
      "False Negative Rate: 35.95\n",
      "Precision: 71.73\n",
      "Recall: 64.05\n",
      "F1 Score: 67.68\n",
      "Support (0): 104600\n",
      "Support (1): 289100\n"
     ]
    }
   ],
   "source": [
    "evaluate.print_classification_metrics(y_train, y_predictions)"
   ]
  },
  {
   "cell_type": "markdown",
   "id": "fb71d0f7-1b9d-4c96-83cc-7342cecb5567",
   "metadata": {},
   "source": [
    "## Running the KNN model with N = 10"
   ]
  },
  {
   "cell_type": "code",
   "execution_count": 13,
   "id": "c82ed0d7-5948-4576-9742-f9e83021c9c3",
   "metadata": {},
   "outputs": [],
   "source": [
    "knn = KNeighborsClassifier(n_neighbors=10)"
   ]
  },
  {
   "cell_type": "code",
   "execution_count": 14,
   "id": "0a4f0676-1894-4d55-a9ea-418b8efb863a",
   "metadata": {},
   "outputs": [
    {
     "data": {
      "text/html": [
       "<style>#sk-container-id-2 {color: black;background-color: white;}#sk-container-id-2 pre{padding: 0;}#sk-container-id-2 div.sk-toggleable {background-color: white;}#sk-container-id-2 label.sk-toggleable__label {cursor: pointer;display: block;width: 100%;margin-bottom: 0;padding: 0.3em;box-sizing: border-box;text-align: center;}#sk-container-id-2 label.sk-toggleable__label-arrow:before {content: \"▸\";float: left;margin-right: 0.25em;color: #696969;}#sk-container-id-2 label.sk-toggleable__label-arrow:hover:before {color: black;}#sk-container-id-2 div.sk-estimator:hover label.sk-toggleable__label-arrow:before {color: black;}#sk-container-id-2 div.sk-toggleable__content {max-height: 0;max-width: 0;overflow: hidden;text-align: left;background-color: #f0f8ff;}#sk-container-id-2 div.sk-toggleable__content pre {margin: 0.2em;color: black;border-radius: 0.25em;background-color: #f0f8ff;}#sk-container-id-2 input.sk-toggleable__control:checked~div.sk-toggleable__content {max-height: 200px;max-width: 100%;overflow: auto;}#sk-container-id-2 input.sk-toggleable__control:checked~label.sk-toggleable__label-arrow:before {content: \"▾\";}#sk-container-id-2 div.sk-estimator input.sk-toggleable__control:checked~label.sk-toggleable__label {background-color: #d4ebff;}#sk-container-id-2 div.sk-label input.sk-toggleable__control:checked~label.sk-toggleable__label {background-color: #d4ebff;}#sk-container-id-2 input.sk-hidden--visually {border: 0;clip: rect(1px 1px 1px 1px);clip: rect(1px, 1px, 1px, 1px);height: 1px;margin: -1px;overflow: hidden;padding: 0;position: absolute;width: 1px;}#sk-container-id-2 div.sk-estimator {font-family: monospace;background-color: #f0f8ff;border: 1px dotted black;border-radius: 0.25em;box-sizing: border-box;margin-bottom: 0.5em;}#sk-container-id-2 div.sk-estimator:hover {background-color: #d4ebff;}#sk-container-id-2 div.sk-parallel-item::after {content: \"\";width: 100%;border-bottom: 1px solid gray;flex-grow: 1;}#sk-container-id-2 div.sk-label:hover label.sk-toggleable__label {background-color: #d4ebff;}#sk-container-id-2 div.sk-serial::before {content: \"\";position: absolute;border-left: 1px solid gray;box-sizing: border-box;top: 0;bottom: 0;left: 50%;z-index: 0;}#sk-container-id-2 div.sk-serial {display: flex;flex-direction: column;align-items: center;background-color: white;padding-right: 0.2em;padding-left: 0.2em;position: relative;}#sk-container-id-2 div.sk-item {position: relative;z-index: 1;}#sk-container-id-2 div.sk-parallel {display: flex;align-items: stretch;justify-content: center;background-color: white;position: relative;}#sk-container-id-2 div.sk-item::before, #sk-container-id-2 div.sk-parallel-item::before {content: \"\";position: absolute;border-left: 1px solid gray;box-sizing: border-box;top: 0;bottom: 0;left: 50%;z-index: -1;}#sk-container-id-2 div.sk-parallel-item {display: flex;flex-direction: column;z-index: 1;position: relative;background-color: white;}#sk-container-id-2 div.sk-parallel-item:first-child::after {align-self: flex-end;width: 50%;}#sk-container-id-2 div.sk-parallel-item:last-child::after {align-self: flex-start;width: 50%;}#sk-container-id-2 div.sk-parallel-item:only-child::after {width: 0;}#sk-container-id-2 div.sk-dashed-wrapped {border: 1px dashed gray;margin: 0 0.4em 0.5em 0.4em;box-sizing: border-box;padding-bottom: 0.4em;background-color: white;}#sk-container-id-2 div.sk-label label {font-family: monospace;font-weight: bold;display: inline-block;line-height: 1.2em;}#sk-container-id-2 div.sk-label-container {text-align: center;}#sk-container-id-2 div.sk-container {/* jupyter's `normalize.less` sets `[hidden] { display: none; }` but bootstrap.min.css set `[hidden] { display: none !important; }` so we also need the `!important` here to be able to override the default hidden behavior on the sphinx rendered scikit-learn.org. See: https://github.com/scikit-learn/scikit-learn/issues/21755 */display: inline-block !important;position: relative;}#sk-container-id-2 div.sk-text-repr-fallback {display: none;}</style><div id=\"sk-container-id-2\" class=\"sk-top-container\"><div class=\"sk-text-repr-fallback\"><pre>KNeighborsClassifier(n_neighbors=10)</pre><b>In a Jupyter environment, please rerun this cell to show the HTML representation or trust the notebook. <br />On GitHub, the HTML representation is unable to render, please try loading this page with nbviewer.org.</b></div><div class=\"sk-container\" hidden><div class=\"sk-item\"><div class=\"sk-estimator sk-toggleable\"><input class=\"sk-toggleable__control sk-hidden--visually\" id=\"sk-estimator-id-2\" type=\"checkbox\" checked><label for=\"sk-estimator-id-2\" class=\"sk-toggleable__label sk-toggleable__label-arrow\">KNeighborsClassifier</label><div class=\"sk-toggleable__content\"><pre>KNeighborsClassifier(n_neighbors=10)</pre></div></div></div></div></div>"
      ],
      "text/plain": [
       "KNeighborsClassifier(n_neighbors=10)"
      ]
     },
     "execution_count": 14,
     "metadata": {},
     "output_type": "execute_result"
    }
   ],
   "source": [
    "knn.fit(x_train, y_train)"
   ]
  },
  {
   "cell_type": "code",
   "execution_count": 17,
   "id": "55a2ad9a-f2b2-483e-8eba-f3e01cc2924f",
   "metadata": {},
   "outputs": [],
   "source": [
    "# creating baseline based on \n",
    "y_preds = knn.predict(x_train)"
   ]
  },
  {
   "cell_type": "code",
   "execution_count": 18,
   "id": "3bdd31d3-aaf3-4a52-ad50-a85b03039b42",
   "metadata": {},
   "outputs": [
    {
     "name": "stdout",
     "output_type": "stream",
     "text": [
      "Accuracy of KNN classifier on training set: 0.82\n"
     ]
    }
   ],
   "source": [
    "print('Accuracy of KNN classifier on training set: {:.2f}'\n",
    "     .format(knn.score(x_train, y_train)))"
   ]
  },
  {
   "cell_type": "code",
   "execution_count": 19,
   "id": "70403dc4-94f1-47c6-b8be-28c78d7c0f23",
   "metadata": {},
   "outputs": [
    {
     "name": "stdout",
     "output_type": "stream",
     "text": [
      "              precision    recall  f1-score   support\n",
      "\n",
      "           0       0.84      0.93      0.89      2891\n",
      "           1       0.74      0.52      0.61      1046\n",
      "\n",
      "    accuracy                           0.82      3937\n",
      "   macro avg       0.79      0.73      0.75      3937\n",
      "weighted avg       0.82      0.82      0.81      3937\n",
      "\n"
     ]
    }
   ],
   "source": [
    "print(classification_report(y_train, y_preds))"
   ]
  },
  {
   "cell_type": "code",
   "execution_count": 20,
   "id": "e11d8829-f621-47c0-bbf2-572c74968ecf",
   "metadata": {},
   "outputs": [
    {
     "name": "stdout",
     "output_type": "stream",
     "text": [
      "Accuracy: 82.35\n",
      "True Positive Rate: 51.91\n",
      "False Positive Rate: 6.64\n",
      "True Negative Rate: 93.36\n",
      "False Negative Rate: 48.09\n",
      "Precision: 73.88\n",
      "Recall: 51.91\n",
      "F1 Score: 60.98\n",
      "Support (0): 104600\n",
      "Support (1): 289100\n"
     ]
    }
   ],
   "source": [
    "evaluate.print_classification_metrics(y_train, y_preds)"
   ]
  },
  {
   "cell_type": "markdown",
   "id": "e78ea0f3-1299-460c-af95-37158a965420",
   "metadata": {},
   "source": [
    "## editing the independent variables in dataframes"
   ]
  },
  {
   "cell_type": "code",
   "execution_count": 7,
   "id": "d11bfe7e-7003-4271-8ccf-4c64f0b0db47",
   "metadata": {},
   "outputs": [],
   "source": [
    "#limited list experiment\n",
    "'''\n",
    "feature_list = ['tenure','payment_type_Electronic check','contract_type_Two year','internet_service_type_Fiber optic','charges_lower_quartile', 'charges_higher_quartile', 'mid_charge']\n",
    "x_train = x_train[feature_list]\n",
    "x_validate = x_validate[feature_list]\n",
    "x_test = x_test[feature_list]\n",
    "'''\n",
    "\n",
    "#expansive but without monthly charges\n",
    "drop_list= ['charges_lower_quartile', 'charges_higher_quartile', 'mid_charge']\n",
    "x_train = x_train.drop(columns=drop_list)\n",
    "x_validate = x_validate.drop(columns=drop_list)\n",
    "x_test = x_test.drop(columns=drop_list)"
   ]
  },
  {
   "cell_type": "markdown",
   "id": "137585a0-4156-44f7-9c33-e9579e00d043",
   "metadata": {},
   "source": [
    "## Evaluating differences in KNN model performance"
   ]
  },
  {
   "cell_type": "code",
   "execution_count": 8,
   "id": "818158ec-7794-4e8c-b316-b11c9df9721b",
   "metadata": {},
   "outputs": [],
   "source": [
    "train_predict = {\n",
    "    'model': [],\n",
    "    'accuracy': [],\n",
    "    'true_positive_rate': [],\n",
    "    'false_positive_rate': [],\n",
    "    'true_negative_rate': [],\n",
    "    'false_negative_rate': [],\n",
    "    'precision': [],\n",
    "    'recall': [],\n",
    "    'f1_score': [],\n",
    "    'support_0': [],\n",
    "    'support_1': []\n",
    "}\n",
    "\n",
    "\n",
    "for n in [5, 7, 10]:\n",
    "    \n",
    "    knn = KNeighborsClassifier(n_neighbors=n)\n",
    "    '''\n",
    "    # building baseline predictions \n",
    "    knn.fit(x_train, y_train)\n",
    "    y_predictions = knn.predict(baseline_train)\n",
    "    train_predict['model'].append(f'baseline_{n}')\n",
    "    train_predict['accuracy'].append(accuracy)\n",
    "    train_predict['true_positive_rate'].append(true_positive_rate)\n",
    "    train_predict['false_positive_rate'].append(false_positive_rate)\n",
    "    train_predict['true_negative_rate'].append(true_negative_rate)\n",
    "    train_predict['false_negative_rate'].append(false_negative_rate)\n",
    "    train_predict['precision'].append(precision)\n",
    "    train_predict['recall'].append(recall)\n",
    "    train_predict['f1_score'].append(f1_score)\n",
    "    train_predict['support_0'].append(support_pos)\n",
    "    train_predict['support_1'].append(support_neg)\n",
    "    '''\n",
    "\n",
    "    # building knn model predictions\n",
    "    knn.fit(x_train, y_train)\n",
    "    y_preds = knn.predict(x_train)\n",
    "\n",
    "    TN, FP, FN, TP = confusion_matrix(y_train, y_preds).ravel()\n",
    "    ALL = TP + TN + FP + FN\n",
    "\n",
    "    accuracy = (TP + TN)/ALL\n",
    "    true_positive_rate = TP/(TP+FN)\n",
    "    false_positive_rate = FP/(FP+TN)\n",
    "    true_negative_rate = TN/(TN+FP)\n",
    "    false_negative_rate = FN/(FN+TP)\n",
    "    precision = TP/(TP+FP)\n",
    "    recall = TP/(TP+FN)\n",
    "    f1_score = 2*(precision*recall)/(precision+recall)\n",
    "    support_pos = TP + FN\n",
    "    support_neg = FP + TN\n",
    "\n",
    "    train_predict['model'].append(f'knn_n_{n}')\n",
    "    train_predict['accuracy'].append(accuracy)\n",
    "    train_predict['true_positive_rate'].append(true_positive_rate)\n",
    "    train_predict['false_positive_rate'].append(false_positive_rate)\n",
    "    train_predict['true_negative_rate'].append(true_negative_rate)\n",
    "    train_predict['false_negative_rate'].append(false_negative_rate)\n",
    "    train_predict['precision'].append(precision)\n",
    "    train_predict['recall'].append(recall)\n",
    "    train_predict['f1_score'].append(f1_score)\n",
    "    train_predict['support_0'].append(support_pos)\n",
    "    train_predict['support_1'].append(support_neg)\n",
    "    \n",
    "train_predict = pd.DataFrame(train_predict).T"
   ]
  },
  {
   "cell_type": "code",
   "execution_count": 9,
   "id": "5efd7e83-a2c9-4271-a026-b3ed6f889f83",
   "metadata": {},
   "outputs": [
    {
     "data": {
      "text/html": [
       "<div>\n",
       "<style scoped>\n",
       "    .dataframe tbody tr th:only-of-type {\n",
       "        vertical-align: middle;\n",
       "    }\n",
       "\n",
       "    .dataframe tbody tr th {\n",
       "        vertical-align: top;\n",
       "    }\n",
       "\n",
       "    .dataframe thead th {\n",
       "        text-align: right;\n",
       "    }\n",
       "</style>\n",
       "<table border=\"1\" class=\"dataframe\">\n",
       "  <thead>\n",
       "    <tr style=\"text-align: right;\">\n",
       "      <th></th>\n",
       "      <th>0</th>\n",
       "      <th>1</th>\n",
       "      <th>2</th>\n",
       "    </tr>\n",
       "  </thead>\n",
       "  <tbody>\n",
       "    <tr>\n",
       "      <th>model</th>\n",
       "      <td>knn_n_5</td>\n",
       "      <td>knn_n_7</td>\n",
       "      <td>knn_n_10</td>\n",
       "    </tr>\n",
       "    <tr>\n",
       "      <th>accuracy</th>\n",
       "      <td>0.846584</td>\n",
       "      <td>0.826264</td>\n",
       "      <td>0.821184</td>\n",
       "    </tr>\n",
       "    <tr>\n",
       "      <th>true_positive_rate</th>\n",
       "      <td>0.655832</td>\n",
       "      <td>0.616635</td>\n",
       "      <td>0.511472</td>\n",
       "    </tr>\n",
       "    <tr>\n",
       "      <th>false_positive_rate</th>\n",
       "      <td>0.0844</td>\n",
       "      <td>0.09789</td>\n",
       "      <td>0.066759</td>\n",
       "    </tr>\n",
       "    <tr>\n",
       "      <th>true_negative_rate</th>\n",
       "      <td>0.9156</td>\n",
       "      <td>0.90211</td>\n",
       "      <td>0.933241</td>\n",
       "    </tr>\n",
       "    <tr>\n",
       "      <th>false_negative_rate</th>\n",
       "      <td>0.344168</td>\n",
       "      <td>0.383365</td>\n",
       "      <td>0.488528</td>\n",
       "    </tr>\n",
       "    <tr>\n",
       "      <th>precision</th>\n",
       "      <td>0.737634</td>\n",
       "      <td>0.695043</td>\n",
       "      <td>0.73489</td>\n",
       "    </tr>\n",
       "    <tr>\n",
       "      <th>recall</th>\n",
       "      <td>0.655832</td>\n",
       "      <td>0.616635</td>\n",
       "      <td>0.511472</td>\n",
       "    </tr>\n",
       "    <tr>\n",
       "      <th>f1_score</th>\n",
       "      <td>0.694332</td>\n",
       "      <td>0.653495</td>\n",
       "      <td>0.603157</td>\n",
       "    </tr>\n",
       "    <tr>\n",
       "      <th>support_0</th>\n",
       "      <td>1046</td>\n",
       "      <td>1046</td>\n",
       "      <td>1046</td>\n",
       "    </tr>\n",
       "    <tr>\n",
       "      <th>support_1</th>\n",
       "      <td>2891</td>\n",
       "      <td>2891</td>\n",
       "      <td>2891</td>\n",
       "    </tr>\n",
       "  </tbody>\n",
       "</table>\n",
       "</div>"
      ],
      "text/plain": [
       "                            0         1         2\n",
       "model                 knn_n_5   knn_n_7  knn_n_10\n",
       "accuracy             0.846584  0.826264  0.821184\n",
       "true_positive_rate   0.655832  0.616635  0.511472\n",
       "false_positive_rate    0.0844   0.09789  0.066759\n",
       "true_negative_rate     0.9156   0.90211  0.933241\n",
       "false_negative_rate  0.344168  0.383365  0.488528\n",
       "precision            0.737634  0.695043   0.73489\n",
       "recall               0.655832  0.616635  0.511472\n",
       "f1_score             0.694332  0.653495  0.603157\n",
       "support_0                1046      1046      1046\n",
       "support_1                2891      2891      2891"
      ]
     },
     "execution_count": 9,
     "metadata": {},
     "output_type": "execute_result"
    }
   ],
   "source": [
    "train_predict"
   ]
  },
  {
   "cell_type": "code",
   "execution_count": 45,
   "id": "ca7ee0d1-e265-4f17-82ee-a212b825350c",
   "metadata": {},
   "outputs": [
    {
     "data": {
      "text/html": [
       "<div>\n",
       "<style scoped>\n",
       "    .dataframe tbody tr th:only-of-type {\n",
       "        vertical-align: middle;\n",
       "    }\n",
       "\n",
       "    .dataframe tbody tr th {\n",
       "        vertical-align: top;\n",
       "    }\n",
       "\n",
       "    .dataframe thead th {\n",
       "        text-align: right;\n",
       "    }\n",
       "</style>\n",
       "<table border=\"1\" class=\"dataframe\">\n",
       "  <thead>\n",
       "    <tr style=\"text-align: right;\">\n",
       "      <th></th>\n",
       "      <th>0</th>\n",
       "      <th>1</th>\n",
       "    </tr>\n",
       "  </thead>\n",
       "  <tbody>\n",
       "    <tr>\n",
       "      <th>model</th>\n",
       "      <td>knn_n_5</td>\n",
       "      <td>knn_n_10</td>\n",
       "    </tr>\n",
       "    <tr>\n",
       "      <th>accuracy</th>\n",
       "      <td>0.840234</td>\n",
       "      <td>0.824994</td>\n",
       "    </tr>\n",
       "    <tr>\n",
       "      <th>true_positive_rate</th>\n",
       "      <td>0.635755</td>\n",
       "      <td>0.524857</td>\n",
       "    </tr>\n",
       "    <tr>\n",
       "      <th>false_positive_rate</th>\n",
       "      <td>0.085783</td>\n",
       "      <td>0.066413</td>\n",
       "    </tr>\n",
       "    <tr>\n",
       "      <th>true_negative_rate</th>\n",
       "      <td>0.914217</td>\n",
       "      <td>0.933587</td>\n",
       "    </tr>\n",
       "    <tr>\n",
       "      <th>false_negative_rate</th>\n",
       "      <td>0.364245</td>\n",
       "      <td>0.475143</td>\n",
       "    </tr>\n",
       "    <tr>\n",
       "      <th>precision</th>\n",
       "      <td>0.728368</td>\n",
       "      <td>0.740891</td>\n",
       "    </tr>\n",
       "    <tr>\n",
       "      <th>recall</th>\n",
       "      <td>0.635755</td>\n",
       "      <td>0.524857</td>\n",
       "    </tr>\n",
       "    <tr>\n",
       "      <th>f1_score</th>\n",
       "      <td>0.678918</td>\n",
       "      <td>0.614438</td>\n",
       "    </tr>\n",
       "    <tr>\n",
       "      <th>support_0</th>\n",
       "      <td>1046</td>\n",
       "      <td>1046</td>\n",
       "    </tr>\n",
       "    <tr>\n",
       "      <th>support_1</th>\n",
       "      <td>2891</td>\n",
       "      <td>2891</td>\n",
       "    </tr>\n",
       "  </tbody>\n",
       "</table>\n",
       "</div>"
      ],
      "text/plain": [
       "                            0         1\n",
       "model                 knn_n_5  knn_n_10\n",
       "accuracy             0.840234  0.824994\n",
       "true_positive_rate   0.635755  0.524857\n",
       "false_positive_rate  0.085783  0.066413\n",
       "true_negative_rate   0.914217  0.933587\n",
       "false_negative_rate  0.364245  0.475143\n",
       "precision            0.728368  0.740891\n",
       "recall               0.635755  0.524857\n",
       "f1_score             0.678918  0.614438\n",
       "support_0                1046      1046\n",
       "support_1                2891      2891"
      ]
     },
     "execution_count": 45,
     "metadata": {},
     "output_type": "execute_result"
    }
   ],
   "source": [
    "#train_predict_original=train_predict\n",
    "train_predict_original"
   ]
  },
  {
   "cell_type": "markdown",
   "id": "947901b9-ae5c-4647-b1f0-a4a29462b8a0",
   "metadata": {},
   "source": [
    "## Evaluating Models on validation data set"
   ]
  },
  {
   "cell_type": "code",
   "execution_count": 10,
   "id": "798b3c09-81b3-4410-89c7-049469c5a1a4",
   "metadata": {},
   "outputs": [],
   "source": [
    "validate_predict = {\n",
    "    'model': [],\n",
    "    'accuracy': [],\n",
    "    'true_positive_rate': [],\n",
    "    'false_positive_rate': [],\n",
    "    'true_negative_rate': [],\n",
    "    'false_negative_rate': [],\n",
    "    'precision': [],\n",
    "    'recall': [],\n",
    "    'f1_score': [],\n",
    "    'support_0': [],\n",
    "    'support_1': []\n",
    "}\n",
    "\n",
    "for n in [5, 7, 10]:\n",
    "    knn = KNeighborsClassifier(n_neighbors=n)\n",
    "    \n",
    "    knn.fit(x_train, y_train)\n",
    "    \n",
    "    y_preds = knn.predict(x_validate)\n",
    "    \n",
    "    TN, FP, FN, TP = confusion_matrix(y_validate, y_preds).ravel()\n",
    "    ALL = TP + TN + FP + FN\n",
    "    \n",
    "    accuracy = (TP + TN)/ALL\n",
    "    true_positive_rate = TP/(TP+FN)\n",
    "    false_positive_rate = FP/(FP+TN)\n",
    "    true_negative_rate = TN/(TN+FP)\n",
    "    false_negative_rate = FN/(FN+TP)\n",
    "    precision = TP/(TP+FP)\n",
    "    recall = TP/(TP+FN)\n",
    "    f1_score = 2*(precision*recall)/(precision+recall)\n",
    "    support_pos = TP + FN\n",
    "    support_neg = FP + TN\n",
    "    \n",
    "    validate_predict['model'].append(f'knn_n_{n}')\n",
    "    validate_predict['accuracy'].append(accuracy)\n",
    "    validate_predict['true_positive_rate'].append(true_positive_rate)\n",
    "    validate_predict['false_positive_rate'].append(false_positive_rate)\n",
    "    validate_predict['true_negative_rate'].append(true_negative_rate)\n",
    "    validate_predict['false_negative_rate'].append(false_negative_rate)\n",
    "    validate_predict['precision'].append(precision)\n",
    "    validate_predict['recall'].append(recall)\n",
    "    validate_predict['f1_score'].append(f1_score)\n",
    "    validate_predict['support_0'].append(support_pos)\n",
    "    validate_predict['support_1'].append(support_neg)\n",
    "    \n",
    "validate_predict = pd.DataFrame(validate_predict).T"
   ]
  },
  {
   "cell_type": "code",
   "execution_count": 12,
   "id": "cd8f812a-1518-4d7f-800d-c6a646b13d92",
   "metadata": {},
   "outputs": [
    {
     "data": {
      "text/html": [
       "<div>\n",
       "<style scoped>\n",
       "    .dataframe tbody tr th:only-of-type {\n",
       "        vertical-align: middle;\n",
       "    }\n",
       "\n",
       "    .dataframe tbody tr th {\n",
       "        vertical-align: top;\n",
       "    }\n",
       "\n",
       "    .dataframe thead th {\n",
       "        text-align: right;\n",
       "    }\n",
       "</style>\n",
       "<table border=\"1\" class=\"dataframe\">\n",
       "  <thead>\n",
       "    <tr style=\"text-align: right;\">\n",
       "      <th></th>\n",
       "      <th>0</th>\n",
       "      <th>1</th>\n",
       "      <th>2</th>\n",
       "    </tr>\n",
       "  </thead>\n",
       "  <tbody>\n",
       "    <tr>\n",
       "      <th>model</th>\n",
       "      <td>knn_n_5</td>\n",
       "      <td>knn_n_7</td>\n",
       "      <td>knn_n_10</td>\n",
       "    </tr>\n",
       "    <tr>\n",
       "      <th>accuracy</th>\n",
       "      <td>0.761848</td>\n",
       "      <td>0.770735</td>\n",
       "      <td>0.777251</td>\n",
       "    </tr>\n",
       "    <tr>\n",
       "      <th>true_positive_rate</th>\n",
       "      <td>0.503341</td>\n",
       "      <td>0.518931</td>\n",
       "      <td>0.407572</td>\n",
       "    </tr>\n",
       "    <tr>\n",
       "      <th>false_positive_rate</th>\n",
       "      <td>0.144471</td>\n",
       "      <td>0.138015</td>\n",
       "      <td>0.088781</td>\n",
       "    </tr>\n",
       "    <tr>\n",
       "      <th>true_negative_rate</th>\n",
       "      <td>0.855529</td>\n",
       "      <td>0.861985</td>\n",
       "      <td>0.911219</td>\n",
       "    </tr>\n",
       "    <tr>\n",
       "      <th>false_negative_rate</th>\n",
       "      <td>0.496659</td>\n",
       "      <td>0.481069</td>\n",
       "      <td>0.592428</td>\n",
       "    </tr>\n",
       "    <tr>\n",
       "      <th>precision</th>\n",
       "      <td>0.558025</td>\n",
       "      <td>0.576733</td>\n",
       "      <td>0.624573</td>\n",
       "    </tr>\n",
       "    <tr>\n",
       "      <th>recall</th>\n",
       "      <td>0.503341</td>\n",
       "      <td>0.518931</td>\n",
       "      <td>0.407572</td>\n",
       "    </tr>\n",
       "    <tr>\n",
       "      <th>f1_score</th>\n",
       "      <td>0.529274</td>\n",
       "      <td>0.546307</td>\n",
       "      <td>0.493261</td>\n",
       "    </tr>\n",
       "    <tr>\n",
       "      <th>support_0</th>\n",
       "      <td>449</td>\n",
       "      <td>449</td>\n",
       "      <td>449</td>\n",
       "    </tr>\n",
       "    <tr>\n",
       "      <th>support_1</th>\n",
       "      <td>1239</td>\n",
       "      <td>1239</td>\n",
       "      <td>1239</td>\n",
       "    </tr>\n",
       "  </tbody>\n",
       "</table>\n",
       "</div>"
      ],
      "text/plain": [
       "                            0         1         2\n",
       "model                 knn_n_5   knn_n_7  knn_n_10\n",
       "accuracy             0.761848  0.770735  0.777251\n",
       "true_positive_rate   0.503341  0.518931  0.407572\n",
       "false_positive_rate  0.144471  0.138015  0.088781\n",
       "true_negative_rate   0.855529  0.861985  0.911219\n",
       "false_negative_rate  0.496659  0.481069  0.592428\n",
       "precision            0.558025  0.576733  0.624573\n",
       "recall               0.503341  0.518931  0.407572\n",
       "f1_score             0.529274  0.546307  0.493261\n",
       "support_0                 449       449       449\n",
       "support_1                1239      1239      1239"
      ]
     },
     "execution_count": 12,
     "metadata": {},
     "output_type": "execute_result"
    }
   ],
   "source": [
    "validate_predict"
   ]
  },
  {
   "cell_type": "code",
   "execution_count": 89,
   "id": "9e52c81a-514b-4432-95df-6292e9019594",
   "metadata": {},
   "outputs": [
    {
     "data": {
      "text/html": [
       "<div>\n",
       "<style scoped>\n",
       "    .dataframe tbody tr th:only-of-type {\n",
       "        vertical-align: middle;\n",
       "    }\n",
       "\n",
       "    .dataframe tbody tr th {\n",
       "        vertical-align: top;\n",
       "    }\n",
       "\n",
       "    .dataframe thead th {\n",
       "        text-align: right;\n",
       "    }\n",
       "</style>\n",
       "<table border=\"1\" class=\"dataframe\">\n",
       "  <thead>\n",
       "    <tr style=\"text-align: right;\">\n",
       "      <th></th>\n",
       "      <th>0</th>\n",
       "      <th>1</th>\n",
       "      <th>2</th>\n",
       "    </tr>\n",
       "  </thead>\n",
       "  <tbody>\n",
       "    <tr>\n",
       "      <th>model</th>\n",
       "      <td>knn_n_5</td>\n",
       "      <td>knn_n_7</td>\n",
       "      <td>knn_n_10</td>\n",
       "    </tr>\n",
       "    <tr>\n",
       "      <th>accuracy</th>\n",
       "      <td>0.76955</td>\n",
       "      <td>0.747038</td>\n",
       "      <td>0.771327</td>\n",
       "    </tr>\n",
       "    <tr>\n",
       "      <th>true_positive_rate</th>\n",
       "      <td>0.481069</td>\n",
       "      <td>0.398664</td>\n",
       "      <td>0.405345</td>\n",
       "    </tr>\n",
       "    <tr>\n",
       "      <th>false_positive_rate</th>\n",
       "      <td>0.125908</td>\n",
       "      <td>0.126715</td>\n",
       "      <td>0.096045</td>\n",
       "    </tr>\n",
       "    <tr>\n",
       "      <th>true_negative_rate</th>\n",
       "      <td>0.874092</td>\n",
       "      <td>0.873285</td>\n",
       "      <td>0.903955</td>\n",
       "    </tr>\n",
       "    <tr>\n",
       "      <th>false_negative_rate</th>\n",
       "      <td>0.518931</td>\n",
       "      <td>0.601336</td>\n",
       "      <td>0.594655</td>\n",
       "    </tr>\n",
       "    <tr>\n",
       "      <th>precision</th>\n",
       "      <td>0.580645</td>\n",
       "      <td>0.532738</td>\n",
       "      <td>0.604651</td>\n",
       "    </tr>\n",
       "    <tr>\n",
       "      <th>recall</th>\n",
       "      <td>0.481069</td>\n",
       "      <td>0.398664</td>\n",
       "      <td>0.405345</td>\n",
       "    </tr>\n",
       "    <tr>\n",
       "      <th>f1_score</th>\n",
       "      <td>0.526188</td>\n",
       "      <td>0.456051</td>\n",
       "      <td>0.485333</td>\n",
       "    </tr>\n",
       "    <tr>\n",
       "      <th>support_0</th>\n",
       "      <td>449</td>\n",
       "      <td>449</td>\n",
       "      <td>449</td>\n",
       "    </tr>\n",
       "    <tr>\n",
       "      <th>support_1</th>\n",
       "      <td>1239</td>\n",
       "      <td>1239</td>\n",
       "      <td>1239</td>\n",
       "    </tr>\n",
       "  </tbody>\n",
       "</table>\n",
       "</div>"
      ],
      "text/plain": [
       "                            0         1         2\n",
       "model                 knn_n_5   knn_n_7  knn_n_10\n",
       "accuracy              0.76955  0.747038  0.771327\n",
       "true_positive_rate   0.481069  0.398664  0.405345\n",
       "false_positive_rate  0.125908  0.126715  0.096045\n",
       "true_negative_rate   0.874092  0.873285  0.903955\n",
       "false_negative_rate  0.518931  0.601336  0.594655\n",
       "precision            0.580645  0.532738  0.604651\n",
       "recall               0.481069  0.398664  0.405345\n",
       "f1_score             0.526188  0.456051  0.485333\n",
       "support_0                 449       449       449\n",
       "support_1                1239      1239      1239"
      ]
     },
     "execution_count": 89,
     "metadata": {},
     "output_type": "execute_result"
    }
   ],
   "source": [
    "validate_predict_original"
   ]
  },
  {
   "cell_type": "markdown",
   "id": "f1da658a-1f40-4fba-aaf5-da033d953778",
   "metadata": {
    "tags": []
   },
   "source": [
    "## altering the training set per the findings of best features"
   ]
  },
  {
   "cell_type": "code",
   "execution_count": 13,
   "id": "f153a64c-f64e-4e45-8125-5e4c71b35bd3",
   "metadata": {},
   "outputs": [],
   "source": [
    "compare = pd.concat([train_predict, validate_predict], axis = 1)"
   ]
  },
  {
   "cell_type": "code",
   "execution_count": 14,
   "id": "e77c6d0a-b975-4a96-9a3d-967bac9793b6",
   "metadata": {},
   "outputs": [
    {
     "data": {
      "text/html": [
       "<div>\n",
       "<style scoped>\n",
       "    .dataframe tbody tr th:only-of-type {\n",
       "        vertical-align: middle;\n",
       "    }\n",
       "\n",
       "    .dataframe tbody tr th {\n",
       "        vertical-align: top;\n",
       "    }\n",
       "\n",
       "    .dataframe thead th {\n",
       "        text-align: right;\n",
       "    }\n",
       "</style>\n",
       "<table border=\"1\" class=\"dataframe\">\n",
       "  <thead>\n",
       "    <tr style=\"text-align: right;\">\n",
       "      <th></th>\n",
       "      <th>0</th>\n",
       "      <th>1</th>\n",
       "      <th>2</th>\n",
       "      <th>0</th>\n",
       "      <th>1</th>\n",
       "      <th>2</th>\n",
       "    </tr>\n",
       "  </thead>\n",
       "  <tbody>\n",
       "    <tr>\n",
       "      <th>model</th>\n",
       "      <td>knn_n_5</td>\n",
       "      <td>knn_n_7</td>\n",
       "      <td>knn_n_10</td>\n",
       "      <td>knn_n_5</td>\n",
       "      <td>knn_n_7</td>\n",
       "      <td>knn_n_10</td>\n",
       "    </tr>\n",
       "    <tr>\n",
       "      <th>accuracy</th>\n",
       "      <td>0.846584</td>\n",
       "      <td>0.826264</td>\n",
       "      <td>0.821184</td>\n",
       "      <td>0.761848</td>\n",
       "      <td>0.770735</td>\n",
       "      <td>0.777251</td>\n",
       "    </tr>\n",
       "    <tr>\n",
       "      <th>true_positive_rate</th>\n",
       "      <td>0.655832</td>\n",
       "      <td>0.616635</td>\n",
       "      <td>0.511472</td>\n",
       "      <td>0.503341</td>\n",
       "      <td>0.518931</td>\n",
       "      <td>0.407572</td>\n",
       "    </tr>\n",
       "    <tr>\n",
       "      <th>false_positive_rate</th>\n",
       "      <td>0.0844</td>\n",
       "      <td>0.09789</td>\n",
       "      <td>0.066759</td>\n",
       "      <td>0.144471</td>\n",
       "      <td>0.138015</td>\n",
       "      <td>0.088781</td>\n",
       "    </tr>\n",
       "    <tr>\n",
       "      <th>true_negative_rate</th>\n",
       "      <td>0.9156</td>\n",
       "      <td>0.90211</td>\n",
       "      <td>0.933241</td>\n",
       "      <td>0.855529</td>\n",
       "      <td>0.861985</td>\n",
       "      <td>0.911219</td>\n",
       "    </tr>\n",
       "    <tr>\n",
       "      <th>false_negative_rate</th>\n",
       "      <td>0.344168</td>\n",
       "      <td>0.383365</td>\n",
       "      <td>0.488528</td>\n",
       "      <td>0.496659</td>\n",
       "      <td>0.481069</td>\n",
       "      <td>0.592428</td>\n",
       "    </tr>\n",
       "    <tr>\n",
       "      <th>precision</th>\n",
       "      <td>0.737634</td>\n",
       "      <td>0.695043</td>\n",
       "      <td>0.73489</td>\n",
       "      <td>0.558025</td>\n",
       "      <td>0.576733</td>\n",
       "      <td>0.624573</td>\n",
       "    </tr>\n",
       "    <tr>\n",
       "      <th>recall</th>\n",
       "      <td>0.655832</td>\n",
       "      <td>0.616635</td>\n",
       "      <td>0.511472</td>\n",
       "      <td>0.503341</td>\n",
       "      <td>0.518931</td>\n",
       "      <td>0.407572</td>\n",
       "    </tr>\n",
       "    <tr>\n",
       "      <th>f1_score</th>\n",
       "      <td>0.694332</td>\n",
       "      <td>0.653495</td>\n",
       "      <td>0.603157</td>\n",
       "      <td>0.529274</td>\n",
       "      <td>0.546307</td>\n",
       "      <td>0.493261</td>\n",
       "    </tr>\n",
       "    <tr>\n",
       "      <th>support_0</th>\n",
       "      <td>1046</td>\n",
       "      <td>1046</td>\n",
       "      <td>1046</td>\n",
       "      <td>449</td>\n",
       "      <td>449</td>\n",
       "      <td>449</td>\n",
       "    </tr>\n",
       "    <tr>\n",
       "      <th>support_1</th>\n",
       "      <td>2891</td>\n",
       "      <td>2891</td>\n",
       "      <td>2891</td>\n",
       "      <td>1239</td>\n",
       "      <td>1239</td>\n",
       "      <td>1239</td>\n",
       "    </tr>\n",
       "  </tbody>\n",
       "</table>\n",
       "</div>"
      ],
      "text/plain": [
       "                            0         1         2         0         1  \\\n",
       "model                 knn_n_5   knn_n_7  knn_n_10   knn_n_5   knn_n_7   \n",
       "accuracy             0.846584  0.826264  0.821184  0.761848  0.770735   \n",
       "true_positive_rate   0.655832  0.616635  0.511472  0.503341  0.518931   \n",
       "false_positive_rate    0.0844   0.09789  0.066759  0.144471  0.138015   \n",
       "true_negative_rate     0.9156   0.90211  0.933241  0.855529  0.861985   \n",
       "false_negative_rate  0.344168  0.383365  0.488528  0.496659  0.481069   \n",
       "precision            0.737634  0.695043   0.73489  0.558025  0.576733   \n",
       "recall               0.655832  0.616635  0.511472  0.503341  0.518931   \n",
       "f1_score             0.694332  0.653495  0.603157  0.529274  0.546307   \n",
       "support_0                1046      1046      1046       449       449   \n",
       "support_1                2891      2891      2891      1239      1239   \n",
       "\n",
       "                            2  \n",
       "model                knn_n_10  \n",
       "accuracy             0.777251  \n",
       "true_positive_rate   0.407572  \n",
       "false_positive_rate  0.088781  \n",
       "true_negative_rate   0.911219  \n",
       "false_negative_rate  0.592428  \n",
       "precision            0.624573  \n",
       "recall               0.407572  \n",
       "f1_score             0.493261  \n",
       "support_0                 449  \n",
       "support_1                1239  "
      ]
     },
     "execution_count": 14,
     "metadata": {},
     "output_type": "execute_result"
    }
   ],
   "source": [
    "compare"
   ]
  },
  {
   "cell_type": "markdown",
   "id": "3c160c08-b13a-42f3-8e34-c77126f5b612",
   "metadata": {},
   "source": [
    "- Looks like the N = 10 KNN model works better on the validate data than n = 5 model\n",
    "- I think I am locking down this model on N = 10. "
   ]
  },
  {
   "cell_type": "code",
   "execution_count": 6,
   "id": "62ac3c2b-9f18-4942-ab46-2e33a62bbe20",
   "metadata": {},
   "outputs": [],
   "source": [
    "target = train.iloc[:,0]\n",
    "independent = train.iloc[:,1:]\n"
   ]
  },
  {
   "cell_type": "code",
   "execution_count": 71,
   "id": "97775495-a809-49ee-9db1-b1be3b2214aa",
   "metadata": {},
   "outputs": [],
   "source": [
    "# determining best, strongest features for the model\n",
    "bestfeatures = SelectKBest(score_func=chi2, k=10)\n",
    "fit = bestfeatures.fit(independent,target)\n",
    "dfscores = pd.DataFrame(fit.scores_)\n",
    "dfcolumns = pd.DataFrame(independent.columns)\n",
    "\n",
    "#concat two dataframes for better visualization \n",
    "feature_scores = pd.concat([dfcolumns,dfscores],axis=1)\n",
    "\n",
    "# renaming the two columns to make sense\n",
    "feature_scores.columns = ['customer_features','score']\n",
    "\n",
    "\n",
    "feature_scores = feature_scores.nlargest(10, 'score')\n",
    "best_features = feature_scores['customer_features']"
   ]
  },
  {
   "cell_type": "code",
   "execution_count": 101,
   "id": "57e16e0e-4a6a-439b-ab95-03bc4b03398b",
   "metadata": {},
   "outputs": [
    {
     "data": {
      "text/html": [
       "<div>\n",
       "<style scoped>\n",
       "    .dataframe tbody tr th:only-of-type {\n",
       "        vertical-align: middle;\n",
       "    }\n",
       "\n",
       "    .dataframe tbody tr th {\n",
       "        vertical-align: top;\n",
       "    }\n",
       "\n",
       "    .dataframe thead th {\n",
       "        text-align: right;\n",
       "    }\n",
       "</style>\n",
       "<table border=\"1\" class=\"dataframe\">\n",
       "  <thead>\n",
       "    <tr style=\"text-align: right;\">\n",
       "      <th></th>\n",
       "      <th>customer_features</th>\n",
       "      <th>score</th>\n",
       "    </tr>\n",
       "  </thead>\n",
       "  <tbody>\n",
       "    <tr>\n",
       "      <th>1</th>\n",
       "      <td>tenure</td>\n",
       "      <td>9425.628007</td>\n",
       "    </tr>\n",
       "    <tr>\n",
       "      <th>25</th>\n",
       "      <td>payment_type_Electronic check</td>\n",
       "      <td>276.262478</td>\n",
       "    </tr>\n",
       "    <tr>\n",
       "      <th>21</th>\n",
       "      <td>contract_type_Two year</td>\n",
       "      <td>274.407274</td>\n",
       "    </tr>\n",
       "    <tr>\n",
       "      <th>22</th>\n",
       "      <td>internet_service_type_Fiber optic</td>\n",
       "      <td>243.599093</td>\n",
       "    </tr>\n",
       "    <tr>\n",
       "      <th>8</th>\n",
       "      <td>online_security_No internet service</td>\n",
       "      <td>158.972011</td>\n",
       "    </tr>\n",
       "    <tr>\n",
       "      <th>10</th>\n",
       "      <td>online_backup_No internet service</td>\n",
       "      <td>158.972011</td>\n",
       "    </tr>\n",
       "    <tr>\n",
       "      <th>12</th>\n",
       "      <td>device_protection_No internet service</td>\n",
       "      <td>158.972011</td>\n",
       "    </tr>\n",
       "    <tr>\n",
       "      <th>14</th>\n",
       "      <td>tech_support_No internet service</td>\n",
       "      <td>158.972011</td>\n",
       "    </tr>\n",
       "    <tr>\n",
       "      <th>16</th>\n",
       "      <td>streaming_tv_No internet service</td>\n",
       "      <td>158.972011</td>\n",
       "    </tr>\n",
       "    <tr>\n",
       "      <th>18</th>\n",
       "      <td>streaming_movies_No internet service</td>\n",
       "      <td>158.972011</td>\n",
       "    </tr>\n",
       "  </tbody>\n",
       "</table>\n",
       "</div>"
      ],
      "text/plain": [
       "                        customer_features        score\n",
       "1                                  tenure  9425.628007\n",
       "25          payment_type_Electronic check   276.262478\n",
       "21                 contract_type_Two year   274.407274\n",
       "22      internet_service_type_Fiber optic   243.599093\n",
       "8     online_security_No internet service   158.972011\n",
       "10      online_backup_No internet service   158.972011\n",
       "12  device_protection_No internet service   158.972011\n",
       "14       tech_support_No internet service   158.972011\n",
       "16       streaming_tv_No internet service   158.972011\n",
       "18   streaming_movies_No internet service   158.972011"
      ]
     },
     "execution_count": 101,
     "metadata": {},
     "output_type": "execute_result"
    }
   ],
   "source": [
    "feature_scores"
   ]
  },
  {
   "cell_type": "code",
   "execution_count": 100,
   "id": "f19be9a1-958c-4131-b362-9477f5242e98",
   "metadata": {},
   "outputs": [
    {
     "name": "stdout",
     "output_type": "stream",
     "text": [
      "<class 'pandas.core.frame.DataFrame'>\n",
      "Int64Index: 1407 entries, 111 to 2588\n",
      "Data columns (total 7 columns):\n",
      " #   Column                             Non-Null Count  Dtype\n",
      "---  ------                             --------------  -----\n",
      " 0   tenure                             1407 non-null   int64\n",
      " 1   payment_type_Electronic check      1407 non-null   uint8\n",
      " 2   contract_type_Two year             1407 non-null   uint8\n",
      " 3   internet_service_type_Fiber optic  1407 non-null   uint8\n",
      " 4   charges_lower_quartile             1407 non-null   bool \n",
      " 5   charges_higher_quartile            1407 non-null   bool \n",
      " 6   mid_charge                         1407 non-null   bool \n",
      "dtypes: bool(3), int64(1), uint8(3)\n",
      "memory usage: 30.2 KB\n"
     ]
    }
   ],
   "source": [
    "x_test.info()"
   ]
  },
  {
   "cell_type": "markdown",
   "id": "34363b74-b330-4976-8fc3-c06e68ce4490",
   "metadata": {},
   "source": [
    "## Testing the N = 10 KNN model"
   ]
  },
  {
   "cell_type": "code",
   "execution_count": 15,
   "id": "e50c2daf-5896-4a36-a6a4-3db7859a0632",
   "metadata": {},
   "outputs": [],
   "source": [
    "test_predict = {\n",
    "    'model': [],\n",
    "    'accuracy': [],\n",
    "    'true_positive_rate': [],\n",
    "    'false_positive_rate': [],\n",
    "    'true_negative_rate': [],\n",
    "    'false_negative_rate': [],\n",
    "    'precision': [],\n",
    "    'recall': [],\n",
    "    'f1_score': [],\n",
    "    'support_0': [],\n",
    "    'support_1': []\n",
    "}\n",
    "n = 10\n",
    "\n",
    "knn = KNeighborsClassifier(n_neighbors=n)\n",
    "\n",
    "knn.fit(x_train, y_train)\n",
    "\n",
    "y_preds = knn.predict(x_test)\n",
    "\n",
    "TN, FP, FN, TP = confusion_matrix(y_test, y_preds).ravel()\n",
    "ALL = TP + TN + FP + FN\n",
    "\n",
    "accuracy = (TP + TN)/ALL\n",
    "true_positive_rate = TP/(TP+FN)\n",
    "false_positive_rate = FP/(FP+TN)\n",
    "true_negative_rate = TN/(TN+FP)\n",
    "false_negative_rate = FN/(FN+TP)\n",
    "precision = TP/(TP+FP)\n",
    "recall = TP/(TP+FN)\n",
    "f1_score = 2*(precision*recall)/(precision+recall)\n",
    "support_pos = TP + FN\n",
    "support_neg = FP + TN\n",
    "\n",
    "test_predict['model'].append(f'knn_n_{n}')\n",
    "test_predict['accuracy'].append(accuracy)\n",
    "test_predict['true_positive_rate'].append(true_positive_rate)\n",
    "test_predict['false_positive_rate'].append(false_positive_rate)\n",
    "test_predict['true_negative_rate'].append(true_negative_rate)\n",
    "test_predict['false_negative_rate'].append(false_negative_rate)\n",
    "test_predict['precision'].append(precision)\n",
    "test_predict['recall'].append(recall)\n",
    "test_predict['f1_score'].append(f1_score)\n",
    "test_predict['support_0'].append(support_pos)\n",
    "test_predict['support_1'].append(support_neg)\n",
    "\n",
    "test_predict = pd.DataFrame(test_predict).T"
   ]
  },
  {
   "cell_type": "code",
   "execution_count": null,
   "id": "22a94c42-6b6a-4a67-87f4-3ab55f9092b6",
   "metadata": {},
   "outputs": [],
   "source": [
    "#exported_csv = pd.DataFrame(y_preds, y_test)\n",
    "#exported_csv.to_csv('exported_csv', index = True)\n",
    "#gfg_csv_data = df.to_csv('GfG.csv', index = True)"
   ]
  },
  {
   "cell_type": "code",
   "execution_count": 16,
   "id": "26202b69-816c-4145-a2f8-6d81d1187579",
   "metadata": {},
   "outputs": [
    {
     "data": {
      "text/plain": [
       "0.7711442786069652"
      ]
     },
     "execution_count": 16,
     "metadata": {},
     "output_type": "execute_result"
    }
   ],
   "source": [
    "test_predict.T['accuracy'][0]"
   ]
  },
  {
   "cell_type": "code",
   "execution_count": null,
   "id": "7b758c1e-32ec-473a-9f57-57945335fba5",
   "metadata": {},
   "outputs": [],
   "source": [
    "print(f\"{baseline_accuracy} {test_predict.T['accuracy']}\")"
   ]
  },
  {
   "cell_type": "code",
   "execution_count": null,
   "id": "13df3fd9-1754-49fd-a7ae-85891b73de1f",
   "metadata": {},
   "outputs": [],
   "source": [
    "{round(test_predict.T['accuracy'][0]*100,2)}%"
   ]
  },
  {
   "cell_type": "code",
   "execution_count": null,
   "id": "9fe4168e-16b5-4886-bc65-89fce1ab66ae",
   "metadata": {},
   "outputs": [],
   "source": [
    "print(f\"Baseline accuracy = {round(baseline_accuracy[0]*100,2)}%\") \n",
    "print(f\"KNN model Accuracy = {round(test_predict.T['accuracy'][0]*100,2)}%\")"
   ]
  },
  {
   "cell_type": "code",
   "execution_count": null,
   "id": "4ae814d6-beca-4950-93cb-d914638a3054",
   "metadata": {},
   "outputs": [],
   "source": []
  }
 ],
 "metadata": {
  "kernelspec": {
   "display_name": "Python 3 (ipykernel)",
   "language": "python",
   "name": "python3"
  },
  "language_info": {
   "codemirror_mode": {
    "name": "ipython",
    "version": 3
   },
   "file_extension": ".py",
   "mimetype": "text/x-python",
   "name": "python",
   "nbconvert_exporter": "python",
   "pygments_lexer": "ipython3",
   "version": "3.9.13"
  }
 },
 "nbformat": 4,
 "nbformat_minor": 5
}
