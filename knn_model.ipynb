{
 "cells": [
  {
   "cell_type": "code",
   "execution_count": 1,
   "id": "6022aa82-12d2-4ea5-9d0c-2ecdf978f1b6",
   "metadata": {},
   "outputs": [
    {
     "name": "stdout",
     "output_type": "stream",
     "text": [
      "The following datasets are available:\n",
      "telco\n"
     ]
    }
   ],
   "source": [
    "# standard modules\n",
    "import seaborn as sns\n",
    "import pandas as pd\n",
    "import numpy as np\n",
    "import os\n",
    "#import math\n",
    "\n",
    "# Modules for Displaying Figures\n",
    "import matplotlib.pyplot as plt\n",
    "import scipy.stats as stats\n",
    "\n",
    "\n",
    "# Data Science Modules \n",
    "from sklearn.tree import DecisionTreeClassifier, plot_tree, export_text\n",
    "from sklearn.model_selection import train_test_split\n",
    "from sklearn.metrics import classification_report, confusion_matrix, plot_confusion_matrix, ConfusionMatrixDisplay\n",
    "from sklearn.ensemble import RandomForestClassifier\n",
    "from sklearn.linear_model import LogisticRegression\n",
    "from sklearn.model_selection import train_test_split\n",
    "from sklearn.neighbors import KNeighborsClassifier\n",
    "\n",
    "# My modules\n",
    "import src.acquire as ac\n",
    "import src.prepare as pp\n",
    "import src.helper as helper\n",
    "import src.evaluate as evaluate\n",
    "\n",
    "# Turn off the red warnings\n",
    "import warnings\n",
    "warnings.filterwarnings(\"ignore\")"
   ]
  },
  {
   "cell_type": "code",
   "execution_count": 2,
   "id": "2fc2a1ea-63c4-49c6-9654-a8b164213ad1",
   "metadata": {},
   "outputs": [],
   "source": [
    "telco = ac.get_telco_data()"
   ]
  },
  {
   "cell_type": "code",
   "execution_count": 6,
   "id": "88b4b709-816d-4183-b5f0-5f0cdad44eb3",
   "metadata": {},
   "outputs": [],
   "source": [
    "x_train, y_train, x_validate, y_validate, x_test, y_test = pp.model_telco_data(telco)"
   ]
  },
  {
   "cell_type": "code",
   "execution_count": 7,
   "id": "dfac3658-daa2-4010-9acb-765e9969f313",
   "metadata": {},
   "outputs": [
    {
     "name": "stdout",
     "output_type": "stream",
     "text": [
      "Baseline accuracy is 73.46%\n"
     ]
    }
   ],
   "source": [
    "# running a function which determines which way to default our target variable\n",
    "# We are using the 'churn' variable as target because we are attempting to predict\n",
    "print(f\"Baseline accuracy is {round(evaluate.baseline(telco, 'churn')*100,2)}%\")"
   ]
  },
  {
   "cell_type": "markdown",
   "id": "4a0dfc6a-a9b9-4373-b56e-6b28963a94ff",
   "metadata": {},
   "source": [
    "## Running KNN with N = 5 (default setting)"
   ]
  },
  {
   "cell_type": "code",
   "execution_count": 4,
   "id": "513c13ca-eaf9-42b5-a4bf-4bca6bb012a7",
   "metadata": {},
   "outputs": [
    {
     "data": {
      "text/html": [
       "<style>#sk-container-id-1 {color: black;background-color: white;}#sk-container-id-1 pre{padding: 0;}#sk-container-id-1 div.sk-toggleable {background-color: white;}#sk-container-id-1 label.sk-toggleable__label {cursor: pointer;display: block;width: 100%;margin-bottom: 0;padding: 0.3em;box-sizing: border-box;text-align: center;}#sk-container-id-1 label.sk-toggleable__label-arrow:before {content: \"▸\";float: left;margin-right: 0.25em;color: #696969;}#sk-container-id-1 label.sk-toggleable__label-arrow:hover:before {color: black;}#sk-container-id-1 div.sk-estimator:hover label.sk-toggleable__label-arrow:before {color: black;}#sk-container-id-1 div.sk-toggleable__content {max-height: 0;max-width: 0;overflow: hidden;text-align: left;background-color: #f0f8ff;}#sk-container-id-1 div.sk-toggleable__content pre {margin: 0.2em;color: black;border-radius: 0.25em;background-color: #f0f8ff;}#sk-container-id-1 input.sk-toggleable__control:checked~div.sk-toggleable__content {max-height: 200px;max-width: 100%;overflow: auto;}#sk-container-id-1 input.sk-toggleable__control:checked~label.sk-toggleable__label-arrow:before {content: \"▾\";}#sk-container-id-1 div.sk-estimator input.sk-toggleable__control:checked~label.sk-toggleable__label {background-color: #d4ebff;}#sk-container-id-1 div.sk-label input.sk-toggleable__control:checked~label.sk-toggleable__label {background-color: #d4ebff;}#sk-container-id-1 input.sk-hidden--visually {border: 0;clip: rect(1px 1px 1px 1px);clip: rect(1px, 1px, 1px, 1px);height: 1px;margin: -1px;overflow: hidden;padding: 0;position: absolute;width: 1px;}#sk-container-id-1 div.sk-estimator {font-family: monospace;background-color: #f0f8ff;border: 1px dotted black;border-radius: 0.25em;box-sizing: border-box;margin-bottom: 0.5em;}#sk-container-id-1 div.sk-estimator:hover {background-color: #d4ebff;}#sk-container-id-1 div.sk-parallel-item::after {content: \"\";width: 100%;border-bottom: 1px solid gray;flex-grow: 1;}#sk-container-id-1 div.sk-label:hover label.sk-toggleable__label {background-color: #d4ebff;}#sk-container-id-1 div.sk-serial::before {content: \"\";position: absolute;border-left: 1px solid gray;box-sizing: border-box;top: 0;bottom: 0;left: 50%;z-index: 0;}#sk-container-id-1 div.sk-serial {display: flex;flex-direction: column;align-items: center;background-color: white;padding-right: 0.2em;padding-left: 0.2em;position: relative;}#sk-container-id-1 div.sk-item {position: relative;z-index: 1;}#sk-container-id-1 div.sk-parallel {display: flex;align-items: stretch;justify-content: center;background-color: white;position: relative;}#sk-container-id-1 div.sk-item::before, #sk-container-id-1 div.sk-parallel-item::before {content: \"\";position: absolute;border-left: 1px solid gray;box-sizing: border-box;top: 0;bottom: 0;left: 50%;z-index: -1;}#sk-container-id-1 div.sk-parallel-item {display: flex;flex-direction: column;z-index: 1;position: relative;background-color: white;}#sk-container-id-1 div.sk-parallel-item:first-child::after {align-self: flex-end;width: 50%;}#sk-container-id-1 div.sk-parallel-item:last-child::after {align-self: flex-start;width: 50%;}#sk-container-id-1 div.sk-parallel-item:only-child::after {width: 0;}#sk-container-id-1 div.sk-dashed-wrapped {border: 1px dashed gray;margin: 0 0.4em 0.5em 0.4em;box-sizing: border-box;padding-bottom: 0.4em;background-color: white;}#sk-container-id-1 div.sk-label label {font-family: monospace;font-weight: bold;display: inline-block;line-height: 1.2em;}#sk-container-id-1 div.sk-label-container {text-align: center;}#sk-container-id-1 div.sk-container {/* jupyter's `normalize.less` sets `[hidden] { display: none; }` but bootstrap.min.css set `[hidden] { display: none !important; }` so we also need the `!important` here to be able to override the default hidden behavior on the sphinx rendered scikit-learn.org. See: https://github.com/scikit-learn/scikit-learn/issues/21755 */display: inline-block !important;position: relative;}#sk-container-id-1 div.sk-text-repr-fallback {display: none;}</style><div id=\"sk-container-id-1\" class=\"sk-top-container\"><div class=\"sk-text-repr-fallback\"><pre>KNeighborsClassifier()</pre><b>In a Jupyter environment, please rerun this cell to show the HTML representation or trust the notebook. <br />On GitHub, the HTML representation is unable to render, please try loading this page with nbviewer.org.</b></div><div class=\"sk-container\" hidden><div class=\"sk-item\"><div class=\"sk-estimator sk-toggleable\"><input class=\"sk-toggleable__control sk-hidden--visually\" id=\"sk-estimator-id-1\" type=\"checkbox\" checked><label for=\"sk-estimator-id-1\" class=\"sk-toggleable__label sk-toggleable__label-arrow\">KNeighborsClassifier</label><div class=\"sk-toggleable__content\"><pre>KNeighborsClassifier()</pre></div></div></div></div></div>"
      ],
      "text/plain": [
       "KNeighborsClassifier()"
      ]
     },
     "execution_count": 4,
     "metadata": {},
     "output_type": "execute_result"
    }
   ],
   "source": [
    "knn = KNeighborsClassifier()\n",
    "knn.fit(x_train, y_train)"
   ]
  },
  {
   "cell_type": "code",
   "execution_count": 69,
   "id": "c62df5d1-95c7-499d-9b0e-c2ba46cadef0",
   "metadata": {},
   "outputs": [],
   "source": [
    "knn = KNeighborsClassifier(n_neighbors=5)\n",
    "knn.fit(x_train, baseline_train)\n",
    "y_predictions = knn.predict(x_train)"
   ]
  },
  {
   "cell_type": "code",
   "execution_count": null,
   "id": "9d7d12ba-b5b6-4809-bae5-ef50f625f283",
   "metadata": {},
   "outputs": [],
   "source": []
  },
  {
   "cell_type": "code",
   "execution_count": 5,
   "id": "77cc7327-b5a2-4a5c-b0a8-0db289ee0251",
   "metadata": {},
   "outputs": [],
   "source": [
    "y_predictions = knn.predict(x_train)"
   ]
  },
  {
   "cell_type": "code",
   "execution_count": 6,
   "id": "a0b0bc4e-48a6-4ed6-bafe-b10e949655b1",
   "metadata": {},
   "outputs": [
    {
     "data": {
      "text/plain": [
       "array([0, 1, 0, ..., 0, 0, 1])"
      ]
     },
     "execution_count": 6,
     "metadata": {},
     "output_type": "execute_result"
    }
   ],
   "source": [
    "y_predictions"
   ]
  },
  {
   "cell_type": "code",
   "execution_count": 7,
   "id": "fd189d8a-0888-42b5-941a-e61870bde043",
   "metadata": {},
   "outputs": [
    {
     "name": "stdout",
     "output_type": "stream",
     "text": [
      "Accuracy of KNN classifier on training set: 0.84\n"
     ]
    }
   ],
   "source": [
    "print('Accuracy of KNN classifier on training set: {:.2f}'\n",
    "     .format(knn.score(x_train, y_train)))"
   ]
  },
  {
   "cell_type": "code",
   "execution_count": 8,
   "id": "4a126314-0692-413e-9a88-96a32206cbb8",
   "metadata": {},
   "outputs": [
    {
     "data": {
      "text/plain": [
       "array([[2627,  264],\n",
       "       [ 376,  670]])"
      ]
     },
     "execution_count": 8,
     "metadata": {},
     "output_type": "execute_result"
    }
   ],
   "source": [
    "confusion_matrix(y_train, y_predictions)"
   ]
  },
  {
   "cell_type": "code",
   "execution_count": 9,
   "id": "b3dd51a7-504f-4af8-a364-8eaae3ddaea0",
   "metadata": {},
   "outputs": [
    {
     "name": "stdout",
     "output_type": "stream",
     "text": [
      "              precision    recall  f1-score   support\n",
      "\n",
      "           0       0.87      0.91      0.89      2891\n",
      "           1       0.72      0.64      0.68      1046\n",
      "\n",
      "    accuracy                           0.84      3937\n",
      "   macro avg       0.80      0.77      0.78      3937\n",
      "weighted avg       0.83      0.84      0.83      3937\n",
      "\n"
     ]
    }
   ],
   "source": [
    "print(classification_report(y_train, y_predictions))"
   ]
  },
  {
   "cell_type": "code",
   "execution_count": 10,
   "id": "aa1eac91-d0db-4911-bf44-548ef3134a61",
   "metadata": {},
   "outputs": [
    {
     "name": "stdout",
     "output_type": "stream",
     "text": [
      "Accuracy: 83.74\n",
      "True Positive Rate: 64.05\n",
      "False Positive Rate: 9.13\n",
      "True Negative Rate: 90.87\n",
      "False Negative Rate: 35.95\n",
      "Precision: 71.73\n",
      "Recall: 64.05\n",
      "F1 Score: 67.68\n",
      "Support (0): 104600\n",
      "Support (1): 289100\n"
     ]
    }
   ],
   "source": [
    "evaluate.print_classification_metrics(y_train, y_predictions)"
   ]
  },
  {
   "cell_type": "markdown",
   "id": "fb71d0f7-1b9d-4c96-83cc-7342cecb5567",
   "metadata": {},
   "source": [
    "## Running the KNN model with N = 10"
   ]
  },
  {
   "cell_type": "code",
   "execution_count": 11,
   "id": "c82ed0d7-5948-4576-9742-f9e83021c9c3",
   "metadata": {},
   "outputs": [],
   "source": [
    "knn = KNeighborsClassifier(n_neighbors=10)"
   ]
  },
  {
   "cell_type": "code",
   "execution_count": 12,
   "id": "0a4f0676-1894-4d55-a9ea-418b8efb863a",
   "metadata": {},
   "outputs": [
    {
     "data": {
      "text/html": [
       "<style>#sk-container-id-2 {color: black;background-color: white;}#sk-container-id-2 pre{padding: 0;}#sk-container-id-2 div.sk-toggleable {background-color: white;}#sk-container-id-2 label.sk-toggleable__label {cursor: pointer;display: block;width: 100%;margin-bottom: 0;padding: 0.3em;box-sizing: border-box;text-align: center;}#sk-container-id-2 label.sk-toggleable__label-arrow:before {content: \"▸\";float: left;margin-right: 0.25em;color: #696969;}#sk-container-id-2 label.sk-toggleable__label-arrow:hover:before {color: black;}#sk-container-id-2 div.sk-estimator:hover label.sk-toggleable__label-arrow:before {color: black;}#sk-container-id-2 div.sk-toggleable__content {max-height: 0;max-width: 0;overflow: hidden;text-align: left;background-color: #f0f8ff;}#sk-container-id-2 div.sk-toggleable__content pre {margin: 0.2em;color: black;border-radius: 0.25em;background-color: #f0f8ff;}#sk-container-id-2 input.sk-toggleable__control:checked~div.sk-toggleable__content {max-height: 200px;max-width: 100%;overflow: auto;}#sk-container-id-2 input.sk-toggleable__control:checked~label.sk-toggleable__label-arrow:before {content: \"▾\";}#sk-container-id-2 div.sk-estimator input.sk-toggleable__control:checked~label.sk-toggleable__label {background-color: #d4ebff;}#sk-container-id-2 div.sk-label input.sk-toggleable__control:checked~label.sk-toggleable__label {background-color: #d4ebff;}#sk-container-id-2 input.sk-hidden--visually {border: 0;clip: rect(1px 1px 1px 1px);clip: rect(1px, 1px, 1px, 1px);height: 1px;margin: -1px;overflow: hidden;padding: 0;position: absolute;width: 1px;}#sk-container-id-2 div.sk-estimator {font-family: monospace;background-color: #f0f8ff;border: 1px dotted black;border-radius: 0.25em;box-sizing: border-box;margin-bottom: 0.5em;}#sk-container-id-2 div.sk-estimator:hover {background-color: #d4ebff;}#sk-container-id-2 div.sk-parallel-item::after {content: \"\";width: 100%;border-bottom: 1px solid gray;flex-grow: 1;}#sk-container-id-2 div.sk-label:hover label.sk-toggleable__label {background-color: #d4ebff;}#sk-container-id-2 div.sk-serial::before {content: \"\";position: absolute;border-left: 1px solid gray;box-sizing: border-box;top: 0;bottom: 0;left: 50%;z-index: 0;}#sk-container-id-2 div.sk-serial {display: flex;flex-direction: column;align-items: center;background-color: white;padding-right: 0.2em;padding-left: 0.2em;position: relative;}#sk-container-id-2 div.sk-item {position: relative;z-index: 1;}#sk-container-id-2 div.sk-parallel {display: flex;align-items: stretch;justify-content: center;background-color: white;position: relative;}#sk-container-id-2 div.sk-item::before, #sk-container-id-2 div.sk-parallel-item::before {content: \"\";position: absolute;border-left: 1px solid gray;box-sizing: border-box;top: 0;bottom: 0;left: 50%;z-index: -1;}#sk-container-id-2 div.sk-parallel-item {display: flex;flex-direction: column;z-index: 1;position: relative;background-color: white;}#sk-container-id-2 div.sk-parallel-item:first-child::after {align-self: flex-end;width: 50%;}#sk-container-id-2 div.sk-parallel-item:last-child::after {align-self: flex-start;width: 50%;}#sk-container-id-2 div.sk-parallel-item:only-child::after {width: 0;}#sk-container-id-2 div.sk-dashed-wrapped {border: 1px dashed gray;margin: 0 0.4em 0.5em 0.4em;box-sizing: border-box;padding-bottom: 0.4em;background-color: white;}#sk-container-id-2 div.sk-label label {font-family: monospace;font-weight: bold;display: inline-block;line-height: 1.2em;}#sk-container-id-2 div.sk-label-container {text-align: center;}#sk-container-id-2 div.sk-container {/* jupyter's `normalize.less` sets `[hidden] { display: none; }` but bootstrap.min.css set `[hidden] { display: none !important; }` so we also need the `!important` here to be able to override the default hidden behavior on the sphinx rendered scikit-learn.org. See: https://github.com/scikit-learn/scikit-learn/issues/21755 */display: inline-block !important;position: relative;}#sk-container-id-2 div.sk-text-repr-fallback {display: none;}</style><div id=\"sk-container-id-2\" class=\"sk-top-container\"><div class=\"sk-text-repr-fallback\"><pre>KNeighborsClassifier(n_neighbors=10)</pre><b>In a Jupyter environment, please rerun this cell to show the HTML representation or trust the notebook. <br />On GitHub, the HTML representation is unable to render, please try loading this page with nbviewer.org.</b></div><div class=\"sk-container\" hidden><div class=\"sk-item\"><div class=\"sk-estimator sk-toggleable\"><input class=\"sk-toggleable__control sk-hidden--visually\" id=\"sk-estimator-id-2\" type=\"checkbox\" checked><label for=\"sk-estimator-id-2\" class=\"sk-toggleable__label sk-toggleable__label-arrow\">KNeighborsClassifier</label><div class=\"sk-toggleable__content\"><pre>KNeighborsClassifier(n_neighbors=10)</pre></div></div></div></div></div>"
      ],
      "text/plain": [
       "KNeighborsClassifier(n_neighbors=10)"
      ]
     },
     "execution_count": 12,
     "metadata": {},
     "output_type": "execute_result"
    }
   ],
   "source": [
    "knn.fit(x_train, y_train)"
   ]
  },
  {
   "cell_type": "code",
   "execution_count": null,
   "id": "55a2ad9a-f2b2-483e-8eba-f3e01cc2924f",
   "metadata": {},
   "outputs": [],
   "source": [
    "# creating baseline based on \n",
    "y_preds = knn.predict(baseline_train)"
   ]
  },
  {
   "cell_type": "code",
   "execution_count": 13,
   "id": "0121adef-221b-46f0-9b77-28dc544833aa",
   "metadata": {},
   "outputs": [],
   "source": [
    "y_preds = knn.predict(x_train)"
   ]
  },
  {
   "cell_type": "code",
   "execution_count": 14,
   "id": "3bdd31d3-aaf3-4a52-ad50-a85b03039b42",
   "metadata": {},
   "outputs": [
    {
     "name": "stdout",
     "output_type": "stream",
     "text": [
      "Accuracy of KNN classifier on training set: 0.82\n"
     ]
    }
   ],
   "source": [
    "print('Accuracy of KNN classifier on training set: {:.2f}'\n",
    "     .format(knn.score(x_train, y_train)))"
   ]
  },
  {
   "cell_type": "code",
   "execution_count": 15,
   "id": "70403dc4-94f1-47c6-b8be-28c78d7c0f23",
   "metadata": {},
   "outputs": [
    {
     "name": "stdout",
     "output_type": "stream",
     "text": [
      "              precision    recall  f1-score   support\n",
      "\n",
      "           0       0.84      0.93      0.89      2891\n",
      "           1       0.74      0.52      0.61      1046\n",
      "\n",
      "    accuracy                           0.82      3937\n",
      "   macro avg       0.79      0.73      0.75      3937\n",
      "weighted avg       0.82      0.82      0.81      3937\n",
      "\n"
     ]
    }
   ],
   "source": [
    "print(classification_report(y_train, y_preds))"
   ]
  },
  {
   "cell_type": "code",
   "execution_count": 16,
   "id": "e11d8829-f621-47c0-bbf2-572c74968ecf",
   "metadata": {},
   "outputs": [
    {
     "name": "stdout",
     "output_type": "stream",
     "text": [
      "Accuracy: 82.35\n",
      "True Positive Rate: 51.91\n",
      "False Positive Rate: 6.64\n",
      "True Negative Rate: 93.36\n",
      "False Negative Rate: 48.09\n",
      "Precision: 73.88\n",
      "Recall: 51.91\n",
      "F1 Score: 60.98\n",
      "Support (0): 104600\n",
      "Support (1): 289100\n"
     ]
    }
   ],
   "source": [
    "evaluate.print_classification_metrics(y_train, y_preds)"
   ]
  },
  {
   "cell_type": "code",
   "execution_count": null,
   "id": "d7cd175b-57ed-4efa-ae3a-f79c8784276a",
   "metadata": {},
   "outputs": [],
   "source": []
  },
  {
   "cell_type": "code",
   "execution_count": null,
   "id": "d11bfe7e-7003-4271-8ccf-4c64f0b0db47",
   "metadata": {},
   "outputs": [],
   "source": []
  },
  {
   "cell_type": "markdown",
   "id": "137585a0-4156-44f7-9c33-e9579e00d043",
   "metadata": {},
   "source": [
    "## Evaluating differences in KNN model performance"
   ]
  },
  {
   "cell_type": "code",
   "execution_count": 79,
   "id": "818158ec-7794-4e8c-b316-b11c9df9721b",
   "metadata": {},
   "outputs": [
    {
     "ename": "ValueError",
     "evalue": "Expected 2D array, got 1D array instead:\narray=[0 0 0 ... 0 0 0].\nReshape your data either using array.reshape(-1, 1) if your data has a single feature or array.reshape(1, -1) if it contains a single sample.",
     "output_type": "error",
     "traceback": [
      "\u001b[0;31m---------------------------------------------------------------------------\u001b[0m",
      "\u001b[0;31mValueError\u001b[0m                                Traceback (most recent call last)",
      "Input \u001b[0;32mIn [79]\u001b[0m, in \u001b[0;36m<cell line: 32>\u001b[0;34m()\u001b[0m\n\u001b[1;32m     35\u001b[0m \u001b[38;5;66;03m# building baseline predictions \u001b[39;00m\n\u001b[1;32m     36\u001b[0m knn\u001b[38;5;241m.\u001b[39mfit(x_train, y_train)\n\u001b[0;32m---> 37\u001b[0m y_predictions \u001b[38;5;241m=\u001b[39m \u001b[43mknn\u001b[49m\u001b[38;5;241;43m.\u001b[39;49m\u001b[43mpredict\u001b[49m\u001b[43m(\u001b[49m\u001b[43mbaseline_train\u001b[49m\u001b[43m)\u001b[49m\n\u001b[1;32m     38\u001b[0m train_predict[\u001b[38;5;124m'\u001b[39m\u001b[38;5;124mmodel\u001b[39m\u001b[38;5;124m'\u001b[39m]\u001b[38;5;241m.\u001b[39mappend(\u001b[38;5;124mf\u001b[39m\u001b[38;5;124m'\u001b[39m\u001b[38;5;124mbaseline_\u001b[39m\u001b[38;5;132;01m{\u001b[39;00mn\u001b[38;5;132;01m}\u001b[39;00m\u001b[38;5;124m'\u001b[39m)\n\u001b[1;32m     39\u001b[0m train_predict[\u001b[38;5;124m'\u001b[39m\u001b[38;5;124maccuracy\u001b[39m\u001b[38;5;124m'\u001b[39m]\u001b[38;5;241m.\u001b[39mappend(accuracy)\n",
      "File \u001b[0;32m/usr/local/anaconda3/lib/python3.9/site-packages/sklearn/neighbors/_classification.py:219\u001b[0m, in \u001b[0;36mKNeighborsClassifier.predict\u001b[0;34m(self, X)\u001b[0m\n\u001b[1;32m    203\u001b[0m \u001b[38;5;124;03m\"\"\"Predict the class labels for the provided data.\u001b[39;00m\n\u001b[1;32m    204\u001b[0m \n\u001b[1;32m    205\u001b[0m \u001b[38;5;124;03mParameters\u001b[39;00m\n\u001b[0;32m   (...)\u001b[0m\n\u001b[1;32m    214\u001b[0m \u001b[38;5;124;03m    Class labels for each data sample.\u001b[39;00m\n\u001b[1;32m    215\u001b[0m \u001b[38;5;124;03m\"\"\"\u001b[39;00m\n\u001b[1;32m    216\u001b[0m \u001b[38;5;28;01mif\u001b[39;00m \u001b[38;5;28mself\u001b[39m\u001b[38;5;241m.\u001b[39mweights \u001b[38;5;241m==\u001b[39m \u001b[38;5;124m\"\u001b[39m\u001b[38;5;124muniform\u001b[39m\u001b[38;5;124m\"\u001b[39m:\n\u001b[1;32m    217\u001b[0m     \u001b[38;5;66;03m# In that case, we do not need the distances to perform\u001b[39;00m\n\u001b[1;32m    218\u001b[0m     \u001b[38;5;66;03m# the weighting so we do not compute them.\u001b[39;00m\n\u001b[0;32m--> 219\u001b[0m     neigh_ind \u001b[38;5;241m=\u001b[39m \u001b[38;5;28;43mself\u001b[39;49m\u001b[38;5;241;43m.\u001b[39;49m\u001b[43mkneighbors\u001b[49m\u001b[43m(\u001b[49m\u001b[43mX\u001b[49m\u001b[43m,\u001b[49m\u001b[43m \u001b[49m\u001b[43mreturn_distance\u001b[49m\u001b[38;5;241;43m=\u001b[39;49m\u001b[38;5;28;43;01mFalse\u001b[39;49;00m\u001b[43m)\u001b[49m\n\u001b[1;32m    220\u001b[0m     neigh_dist \u001b[38;5;241m=\u001b[39m \u001b[38;5;28;01mNone\u001b[39;00m\n\u001b[1;32m    221\u001b[0m \u001b[38;5;28;01melse\u001b[39;00m:\n",
      "File \u001b[0;32m/usr/local/anaconda3/lib/python3.9/site-packages/sklearn/neighbors/_base.py:745\u001b[0m, in \u001b[0;36mKNeighborsMixin.kneighbors\u001b[0;34m(self, X, n_neighbors, return_distance)\u001b[0m\n\u001b[1;32m    743\u001b[0m         X \u001b[38;5;241m=\u001b[39m _check_precomputed(X)\n\u001b[1;32m    744\u001b[0m     \u001b[38;5;28;01melse\u001b[39;00m:\n\u001b[0;32m--> 745\u001b[0m         X \u001b[38;5;241m=\u001b[39m \u001b[38;5;28;43mself\u001b[39;49m\u001b[38;5;241;43m.\u001b[39;49m\u001b[43m_validate_data\u001b[49m\u001b[43m(\u001b[49m\u001b[43mX\u001b[49m\u001b[43m,\u001b[49m\u001b[43m \u001b[49m\u001b[43maccept_sparse\u001b[49m\u001b[38;5;241;43m=\u001b[39;49m\u001b[38;5;124;43m\"\u001b[39;49m\u001b[38;5;124;43mcsr\u001b[39;49m\u001b[38;5;124;43m\"\u001b[39;49m\u001b[43m,\u001b[49m\u001b[43m \u001b[49m\u001b[43mreset\u001b[49m\u001b[38;5;241;43m=\u001b[39;49m\u001b[38;5;28;43;01mFalse\u001b[39;49;00m\u001b[43m,\u001b[49m\u001b[43m \u001b[49m\u001b[43morder\u001b[49m\u001b[38;5;241;43m=\u001b[39;49m\u001b[38;5;124;43m\"\u001b[39;49m\u001b[38;5;124;43mC\u001b[39;49m\u001b[38;5;124;43m\"\u001b[39;49m\u001b[43m)\u001b[49m\n\u001b[1;32m    747\u001b[0m n_samples_fit \u001b[38;5;241m=\u001b[39m \u001b[38;5;28mself\u001b[39m\u001b[38;5;241m.\u001b[39mn_samples_fit_\n\u001b[1;32m    748\u001b[0m \u001b[38;5;28;01mif\u001b[39;00m n_neighbors \u001b[38;5;241m>\u001b[39m n_samples_fit:\n",
      "File \u001b[0;32m/usr/local/anaconda3/lib/python3.9/site-packages/sklearn/base.py:577\u001b[0m, in \u001b[0;36mBaseEstimator._validate_data\u001b[0;34m(self, X, y, reset, validate_separately, **check_params)\u001b[0m\n\u001b[1;32m    575\u001b[0m     \u001b[38;5;28;01mraise\u001b[39;00m \u001b[38;5;167;01mValueError\u001b[39;00m(\u001b[38;5;124m\"\u001b[39m\u001b[38;5;124mValidation should be done on X, y or both.\u001b[39m\u001b[38;5;124m\"\u001b[39m)\n\u001b[1;32m    576\u001b[0m \u001b[38;5;28;01melif\u001b[39;00m \u001b[38;5;129;01mnot\u001b[39;00m no_val_X \u001b[38;5;129;01mand\u001b[39;00m no_val_y:\n\u001b[0;32m--> 577\u001b[0m     X \u001b[38;5;241m=\u001b[39m \u001b[43mcheck_array\u001b[49m\u001b[43m(\u001b[49m\u001b[43mX\u001b[49m\u001b[43m,\u001b[49m\u001b[43m \u001b[49m\u001b[43minput_name\u001b[49m\u001b[38;5;241;43m=\u001b[39;49m\u001b[38;5;124;43m\"\u001b[39;49m\u001b[38;5;124;43mX\u001b[39;49m\u001b[38;5;124;43m\"\u001b[39;49m\u001b[43m,\u001b[49m\u001b[43m \u001b[49m\u001b[38;5;241;43m*\u001b[39;49m\u001b[38;5;241;43m*\u001b[39;49m\u001b[43mcheck_params\u001b[49m\u001b[43m)\u001b[49m\n\u001b[1;32m    578\u001b[0m     out \u001b[38;5;241m=\u001b[39m X\n\u001b[1;32m    579\u001b[0m \u001b[38;5;28;01melif\u001b[39;00m no_val_X \u001b[38;5;129;01mand\u001b[39;00m \u001b[38;5;129;01mnot\u001b[39;00m no_val_y:\n",
      "File \u001b[0;32m/usr/local/anaconda3/lib/python3.9/site-packages/sklearn/utils/validation.py:879\u001b[0m, in \u001b[0;36mcheck_array\u001b[0;34m(array, accept_sparse, accept_large_sparse, dtype, order, copy, force_all_finite, ensure_2d, allow_nd, ensure_min_samples, ensure_min_features, estimator, input_name)\u001b[0m\n\u001b[1;32m    877\u001b[0m     \u001b[38;5;66;03m# If input is 1D raise error\u001b[39;00m\n\u001b[1;32m    878\u001b[0m     \u001b[38;5;28;01mif\u001b[39;00m array\u001b[38;5;241m.\u001b[39mndim \u001b[38;5;241m==\u001b[39m \u001b[38;5;241m1\u001b[39m:\n\u001b[0;32m--> 879\u001b[0m         \u001b[38;5;28;01mraise\u001b[39;00m \u001b[38;5;167;01mValueError\u001b[39;00m(\n\u001b[1;32m    880\u001b[0m             \u001b[38;5;124m\"\u001b[39m\u001b[38;5;124mExpected 2D array, got 1D array instead:\u001b[39m\u001b[38;5;130;01m\\n\u001b[39;00m\u001b[38;5;124marray=\u001b[39m\u001b[38;5;132;01m{}\u001b[39;00m\u001b[38;5;124m.\u001b[39m\u001b[38;5;130;01m\\n\u001b[39;00m\u001b[38;5;124m\"\u001b[39m\n\u001b[1;32m    881\u001b[0m             \u001b[38;5;124m\"\u001b[39m\u001b[38;5;124mReshape your data either using array.reshape(-1, 1) if \u001b[39m\u001b[38;5;124m\"\u001b[39m\n\u001b[1;32m    882\u001b[0m             \u001b[38;5;124m\"\u001b[39m\u001b[38;5;124myour data has a single feature or array.reshape(1, -1) \u001b[39m\u001b[38;5;124m\"\u001b[39m\n\u001b[1;32m    883\u001b[0m             \u001b[38;5;124m\"\u001b[39m\u001b[38;5;124mif it contains a single sample.\u001b[39m\u001b[38;5;124m\"\u001b[39m\u001b[38;5;241m.\u001b[39mformat(array)\n\u001b[1;32m    884\u001b[0m         )\n\u001b[1;32m    886\u001b[0m \u001b[38;5;28;01mif\u001b[39;00m dtype_numeric \u001b[38;5;129;01mand\u001b[39;00m array\u001b[38;5;241m.\u001b[39mdtype\u001b[38;5;241m.\u001b[39mkind \u001b[38;5;129;01min\u001b[39;00m \u001b[38;5;124m\"\u001b[39m\u001b[38;5;124mUSV\u001b[39m\u001b[38;5;124m\"\u001b[39m:\n\u001b[1;32m    887\u001b[0m     \u001b[38;5;28;01mraise\u001b[39;00m \u001b[38;5;167;01mValueError\u001b[39;00m(\n\u001b[1;32m    888\u001b[0m         \u001b[38;5;124m\"\u001b[39m\u001b[38;5;124mdtype=\u001b[39m\u001b[38;5;124m'\u001b[39m\u001b[38;5;124mnumeric\u001b[39m\u001b[38;5;124m'\u001b[39m\u001b[38;5;124m is not compatible with arrays of bytes/strings.\u001b[39m\u001b[38;5;124m\"\u001b[39m\n\u001b[1;32m    889\u001b[0m         \u001b[38;5;124m\"\u001b[39m\u001b[38;5;124mConvert your data to numeric values explicitly instead.\u001b[39m\u001b[38;5;124m\"\u001b[39m\n\u001b[1;32m    890\u001b[0m     )\n",
      "\u001b[0;31mValueError\u001b[0m: Expected 2D array, got 1D array instead:\narray=[0 0 0 ... 0 0 0].\nReshape your data either using array.reshape(-1, 1) if your data has a single feature or array.reshape(1, -1) if it contains a single sample."
     ]
    }
   ],
   "source": [
    "train_predict = {\n",
    "    'model': [],\n",
    "    'accuracy': [],\n",
    "    'true_positive_rate': [],\n",
    "    'false_positive_rate': [],\n",
    "    'true_negative_rate': [],\n",
    "    'false_negative_rate': [],\n",
    "    'precision': [],\n",
    "    'recall': [],\n",
    "    'f1_score': [],\n",
    "    'support_0': [],\n",
    "    'support_1': []\n",
    "}\n",
    "\n",
    "\n",
    "for n in [5, 10]:\n",
    "    '''\n",
    "    knn = KNeighborsClassifier(n_neighbors=n)\n",
    "    \n",
    "    # building baseline predictions \n",
    "    knn.fit(x_train, y_train)\n",
    "    y_predictions = knn.predict(baseline_train)\n",
    "    train_predict['model'].append(f'baseline_{n}')\n",
    "    train_predict['accuracy'].append(accuracy)\n",
    "    train_predict['true_positive_rate'].append(true_positive_rate)\n",
    "    train_predict['false_positive_rate'].append(false_positive_rate)\n",
    "    train_predict['true_negative_rate'].append(true_negative_rate)\n",
    "    train_predict['false_negative_rate'].append(false_negative_rate)\n",
    "    train_predict['precision'].append(precision)\n",
    "    train_predict['recall'].append(recall)\n",
    "    train_predict['f1_score'].append(f1_score)\n",
    "    train_predict['support_0'].append(support_pos)\n",
    "    train_predict['support_1'].append(support_neg)\n",
    "    '''\n",
    "\n",
    "    # building knn model predictions\n",
    "    knn.fit(x_train, y_train)\n",
    "    y_preds = knn.predict(x_train)\n",
    "\n",
    "    TN, FP, FN, TP = confusion_matrix(y_train, y_preds).ravel()\n",
    "    ALL = TP + TN + FP + FN\n",
    "\n",
    "    accuracy = (TP + TN)/ALL\n",
    "    true_positive_rate = TP/(TP+FN)\n",
    "    false_positive_rate = FP/(FP+TN)\n",
    "    true_negative_rate = TN/(TN+FP)\n",
    "    false_negative_rate = FN/(FN+TP)\n",
    "    precision = TP/(TP+FP)\n",
    "    recall = TP/(TP+FN)\n",
    "    f1_score = 2*(precision*recall)/(precision+recall)\n",
    "    support_pos = TP + FN\n",
    "    support_neg = FP + TN\n",
    "\n",
    "    train_predict['model'].append(f'knn_n_{n}')\n",
    "    train_predict['accuracy'].append(accuracy)\n",
    "    train_predict['true_positive_rate'].append(true_positive_rate)\n",
    "    train_predict['false_positive_rate'].append(false_positive_rate)\n",
    "    train_predict['true_negative_rate'].append(true_negative_rate)\n",
    "    train_predict['false_negative_rate'].append(false_negative_rate)\n",
    "    train_predict['precision'].append(precision)\n",
    "    train_predict['recall'].append(recall)\n",
    "    train_predict['f1_score'].append(f1_score)\n",
    "    train_predict['support_0'].append(support_pos)\n",
    "    train_predict['support_1'].append(support_neg)\n",
    "    \n",
    "train_predict = pd.DataFrame(train_predict).T"
   ]
  },
  {
   "cell_type": "code",
   "execution_count": 77,
   "id": "5efd7e83-a2c9-4271-a026-b3ed6f889f83",
   "metadata": {},
   "outputs": [
    {
     "data": {
      "text/html": [
       "<div>\n",
       "<style scoped>\n",
       "    .dataframe tbody tr th:only-of-type {\n",
       "        vertical-align: middle;\n",
       "    }\n",
       "\n",
       "    .dataframe tbody tr th {\n",
       "        vertical-align: top;\n",
       "    }\n",
       "\n",
       "    .dataframe thead th {\n",
       "        text-align: right;\n",
       "    }\n",
       "</style>\n",
       "<table border=\"1\" class=\"dataframe\">\n",
       "  <thead>\n",
       "    <tr style=\"text-align: right;\">\n",
       "      <th></th>\n",
       "      <th>0</th>\n",
       "      <th>1</th>\n",
       "      <th>2</th>\n",
       "      <th>3</th>\n",
       "    </tr>\n",
       "  </thead>\n",
       "  <tbody>\n",
       "    <tr>\n",
       "      <th>model</th>\n",
       "      <td>baseline_10</td>\n",
       "      <td>knn_n_5</td>\n",
       "      <td>baseline_10</td>\n",
       "      <td>knn_n_10</td>\n",
       "    </tr>\n",
       "    <tr>\n",
       "      <th>accuracy</th>\n",
       "      <td>0.82347</td>\n",
       "      <td>0.83744</td>\n",
       "      <td>0.83744</td>\n",
       "      <td>0.82347</td>\n",
       "    </tr>\n",
       "    <tr>\n",
       "      <th>true_positive_rate</th>\n",
       "      <td>0.51912</td>\n",
       "      <td>0.640535</td>\n",
       "      <td>0.640535</td>\n",
       "      <td>0.51912</td>\n",
       "    </tr>\n",
       "    <tr>\n",
       "      <th>false_positive_rate</th>\n",
       "      <td>0.066413</td>\n",
       "      <td>0.091318</td>\n",
       "      <td>0.091318</td>\n",
       "      <td>0.066413</td>\n",
       "    </tr>\n",
       "    <tr>\n",
       "      <th>true_negative_rate</th>\n",
       "      <td>0.933587</td>\n",
       "      <td>0.908682</td>\n",
       "      <td>0.908682</td>\n",
       "      <td>0.933587</td>\n",
       "    </tr>\n",
       "    <tr>\n",
       "      <th>false_negative_rate</th>\n",
       "      <td>0.48088</td>\n",
       "      <td>0.359465</td>\n",
       "      <td>0.359465</td>\n",
       "      <td>0.48088</td>\n",
       "    </tr>\n",
       "    <tr>\n",
       "      <th>precision</th>\n",
       "      <td>0.738776</td>\n",
       "      <td>0.717345</td>\n",
       "      <td>0.717345</td>\n",
       "      <td>0.738776</td>\n",
       "    </tr>\n",
       "    <tr>\n",
       "      <th>recall</th>\n",
       "      <td>0.51912</td>\n",
       "      <td>0.640535</td>\n",
       "      <td>0.640535</td>\n",
       "      <td>0.51912</td>\n",
       "    </tr>\n",
       "    <tr>\n",
       "      <th>f1_score</th>\n",
       "      <td>0.60977</td>\n",
       "      <td>0.676768</td>\n",
       "      <td>0.676768</td>\n",
       "      <td>0.60977</td>\n",
       "    </tr>\n",
       "    <tr>\n",
       "      <th>support_0</th>\n",
       "      <td>1046</td>\n",
       "      <td>1046</td>\n",
       "      <td>1046</td>\n",
       "      <td>1046</td>\n",
       "    </tr>\n",
       "    <tr>\n",
       "      <th>support_1</th>\n",
       "      <td>2891</td>\n",
       "      <td>2891</td>\n",
       "      <td>2891</td>\n",
       "      <td>2891</td>\n",
       "    </tr>\n",
       "  </tbody>\n",
       "</table>\n",
       "</div>"
      ],
      "text/plain": [
       "                               0         1            2         3\n",
       "model                baseline_10   knn_n_5  baseline_10  knn_n_10\n",
       "accuracy                 0.82347   0.83744      0.83744   0.82347\n",
       "true_positive_rate       0.51912  0.640535     0.640535   0.51912\n",
       "false_positive_rate     0.066413  0.091318     0.091318  0.066413\n",
       "true_negative_rate      0.933587  0.908682     0.908682  0.933587\n",
       "false_negative_rate      0.48088  0.359465     0.359465   0.48088\n",
       "precision               0.738776  0.717345     0.717345  0.738776\n",
       "recall                   0.51912  0.640535     0.640535   0.51912\n",
       "f1_score                 0.60977  0.676768     0.676768   0.60977\n",
       "support_0                   1046      1046         1046      1046\n",
       "support_1                   2891      2891         2891      2891"
      ]
     },
     "execution_count": 77,
     "metadata": {},
     "output_type": "execute_result"
    }
   ],
   "source": [
    "train_predict"
   ]
  },
  {
   "cell_type": "markdown",
   "id": "947901b9-ae5c-4647-b1f0-a4a29462b8a0",
   "metadata": {},
   "source": [
    "## Evaluating Models on validation data set"
   ]
  },
  {
   "cell_type": "code",
   "execution_count": 21,
   "id": "798b3c09-81b3-4410-89c7-049469c5a1a4",
   "metadata": {},
   "outputs": [],
   "source": [
    "validate_predict = {\n",
    "    'model': [],\n",
    "    'accuracy': [],\n",
    "    'true_positive_rate': [],\n",
    "    'false_positive_rate': [],\n",
    "    'true_negative_rate': [],\n",
    "    'false_negative_rate': [],\n",
    "    'precision': [],\n",
    "    'recall': [],\n",
    "    'f1_score': [],\n",
    "    'support_0': [],\n",
    "    'support_1': []\n",
    "}\n",
    "\n",
    "for n in [5, 10]:\n",
    "    knn = KNeighborsClassifier(n_neighbors=n)\n",
    "    \n",
    "    knn.fit(x_train, y_train)\n",
    "    \n",
    "    y_preds = knn.predict(x_validate)\n",
    "    \n",
    "    TN, FP, FN, TP = confusion_matrix(y_validate, y_preds).ravel()\n",
    "    ALL = TP + TN + FP + FN\n",
    "    \n",
    "    accuracy = (TP + TN)/ALL\n",
    "    true_positive_rate = TP/(TP+FN)\n",
    "    false_positive_rate = FP/(FP+TN)\n",
    "    true_negative_rate = TN/(TN+FP)\n",
    "    false_negative_rate = FN/(FN+TP)\n",
    "    precision = TP/(TP+FP)\n",
    "    recall = TP/(TP+FN)\n",
    "    f1_score = 2*(precision*recall)/(precision+recall)\n",
    "    support_pos = TP + FN\n",
    "    support_neg = FP + TN\n",
    "    \n",
    "    validate_predict['model'].append(f'knn_n_{n}')\n",
    "    validate_predict['accuracy'].append(accuracy)\n",
    "    validate_predict['true_positive_rate'].append(true_positive_rate)\n",
    "    validate_predict['false_positive_rate'].append(false_positive_rate)\n",
    "    validate_predict['true_negative_rate'].append(true_negative_rate)\n",
    "    validate_predict['false_negative_rate'].append(false_negative_rate)\n",
    "    validate_predict['precision'].append(precision)\n",
    "    validate_predict['recall'].append(recall)\n",
    "    validate_predict['f1_score'].append(f1_score)\n",
    "    validate_predict['support_0'].append(support_pos)\n",
    "    validate_predict['support_1'].append(support_neg)\n",
    "    \n",
    "validate_predict = pd.DataFrame(validate_predict).T"
   ]
  },
  {
   "cell_type": "code",
   "execution_count": 23,
   "id": "9e52c81a-514b-4432-95df-6292e9019594",
   "metadata": {},
   "outputs": [
    {
     "data": {
      "text/html": [
       "<div>\n",
       "<style scoped>\n",
       "    .dataframe tbody tr th:only-of-type {\n",
       "        vertical-align: middle;\n",
       "    }\n",
       "\n",
       "    .dataframe tbody tr th {\n",
       "        vertical-align: top;\n",
       "    }\n",
       "\n",
       "    .dataframe thead th {\n",
       "        text-align: right;\n",
       "    }\n",
       "</style>\n",
       "<table border=\"1\" class=\"dataframe\">\n",
       "  <thead>\n",
       "    <tr style=\"text-align: right;\">\n",
       "      <th></th>\n",
       "      <th>0</th>\n",
       "      <th>1</th>\n",
       "    </tr>\n",
       "  </thead>\n",
       "  <tbody>\n",
       "    <tr>\n",
       "      <th>model</th>\n",
       "      <td>knn_n_5</td>\n",
       "      <td>knn_n_10</td>\n",
       "    </tr>\n",
       "    <tr>\n",
       "      <th>accuracy</th>\n",
       "      <td>0.771919</td>\n",
       "      <td>0.781991</td>\n",
       "    </tr>\n",
       "    <tr>\n",
       "      <th>true_positive_rate</th>\n",
       "      <td>0.52784</td>\n",
       "      <td>0.423163</td>\n",
       "    </tr>\n",
       "    <tr>\n",
       "      <th>false_positive_rate</th>\n",
       "      <td>0.139629</td>\n",
       "      <td>0.087974</td>\n",
       "    </tr>\n",
       "    <tr>\n",
       "      <th>true_negative_rate</th>\n",
       "      <td>0.860371</td>\n",
       "      <td>0.912026</td>\n",
       "    </tr>\n",
       "    <tr>\n",
       "      <th>false_negative_rate</th>\n",
       "      <td>0.47216</td>\n",
       "      <td>0.576837</td>\n",
       "    </tr>\n",
       "    <tr>\n",
       "      <th>precision</th>\n",
       "      <td>0.578049</td>\n",
       "      <td>0.635452</td>\n",
       "    </tr>\n",
       "    <tr>\n",
       "      <th>recall</th>\n",
       "      <td>0.52784</td>\n",
       "      <td>0.423163</td>\n",
       "    </tr>\n",
       "    <tr>\n",
       "      <th>f1_score</th>\n",
       "      <td>0.551804</td>\n",
       "      <td>0.508021</td>\n",
       "    </tr>\n",
       "    <tr>\n",
       "      <th>support_0</th>\n",
       "      <td>449</td>\n",
       "      <td>449</td>\n",
       "    </tr>\n",
       "    <tr>\n",
       "      <th>support_1</th>\n",
       "      <td>1239</td>\n",
       "      <td>1239</td>\n",
       "    </tr>\n",
       "  </tbody>\n",
       "</table>\n",
       "</div>"
      ],
      "text/plain": [
       "                            0         1\n",
       "model                 knn_n_5  knn_n_10\n",
       "accuracy             0.771919  0.781991\n",
       "true_positive_rate    0.52784  0.423163\n",
       "false_positive_rate  0.139629  0.087974\n",
       "true_negative_rate   0.860371  0.912026\n",
       "false_negative_rate   0.47216  0.576837\n",
       "precision            0.578049  0.635452\n",
       "recall                0.52784  0.423163\n",
       "f1_score             0.551804  0.508021\n",
       "support_0                 449       449\n",
       "support_1                1239      1239"
      ]
     },
     "execution_count": 23,
     "metadata": {},
     "output_type": "execute_result"
    }
   ],
   "source": [
    "validate_predict"
   ]
  },
  {
   "cell_type": "code",
   "execution_count": 30,
   "id": "f153a64c-f64e-4e45-8125-5e4c71b35bd3",
   "metadata": {},
   "outputs": [],
   "source": [
    "compare = pd.concat([train_predict, validate_predict], axis = 1)"
   ]
  },
  {
   "cell_type": "code",
   "execution_count": 31,
   "id": "e77c6d0a-b975-4a96-9a3d-967bac9793b6",
   "metadata": {},
   "outputs": [
    {
     "data": {
      "text/html": [
       "<div>\n",
       "<style scoped>\n",
       "    .dataframe tbody tr th:only-of-type {\n",
       "        vertical-align: middle;\n",
       "    }\n",
       "\n",
       "    .dataframe tbody tr th {\n",
       "        vertical-align: top;\n",
       "    }\n",
       "\n",
       "    .dataframe thead th {\n",
       "        text-align: right;\n",
       "    }\n",
       "</style>\n",
       "<table border=\"1\" class=\"dataframe\">\n",
       "  <thead>\n",
       "    <tr style=\"text-align: right;\">\n",
       "      <th></th>\n",
       "      <th>0</th>\n",
       "      <th>1</th>\n",
       "      <th>0</th>\n",
       "      <th>1</th>\n",
       "    </tr>\n",
       "  </thead>\n",
       "  <tbody>\n",
       "    <tr>\n",
       "      <th>model</th>\n",
       "      <td>knn_n_5</td>\n",
       "      <td>knn_n_10</td>\n",
       "      <td>knn_n_5</td>\n",
       "      <td>knn_n_10</td>\n",
       "    </tr>\n",
       "    <tr>\n",
       "      <th>accuracy</th>\n",
       "      <td>0.83744</td>\n",
       "      <td>0.82347</td>\n",
       "      <td>0.771919</td>\n",
       "      <td>0.781991</td>\n",
       "    </tr>\n",
       "    <tr>\n",
       "      <th>true_positive_rate</th>\n",
       "      <td>0.640535</td>\n",
       "      <td>0.51912</td>\n",
       "      <td>0.52784</td>\n",
       "      <td>0.423163</td>\n",
       "    </tr>\n",
       "    <tr>\n",
       "      <th>false_positive_rate</th>\n",
       "      <td>0.091318</td>\n",
       "      <td>0.066413</td>\n",
       "      <td>0.139629</td>\n",
       "      <td>0.087974</td>\n",
       "    </tr>\n",
       "    <tr>\n",
       "      <th>true_negative_rate</th>\n",
       "      <td>0.908682</td>\n",
       "      <td>0.933587</td>\n",
       "      <td>0.860371</td>\n",
       "      <td>0.912026</td>\n",
       "    </tr>\n",
       "    <tr>\n",
       "      <th>false_negative_rate</th>\n",
       "      <td>0.359465</td>\n",
       "      <td>0.48088</td>\n",
       "      <td>0.47216</td>\n",
       "      <td>0.576837</td>\n",
       "    </tr>\n",
       "    <tr>\n",
       "      <th>precision</th>\n",
       "      <td>0.717345</td>\n",
       "      <td>0.738776</td>\n",
       "      <td>0.578049</td>\n",
       "      <td>0.635452</td>\n",
       "    </tr>\n",
       "    <tr>\n",
       "      <th>recall</th>\n",
       "      <td>0.640535</td>\n",
       "      <td>0.51912</td>\n",
       "      <td>0.52784</td>\n",
       "      <td>0.423163</td>\n",
       "    </tr>\n",
       "    <tr>\n",
       "      <th>f1_score</th>\n",
       "      <td>0.676768</td>\n",
       "      <td>0.60977</td>\n",
       "      <td>0.551804</td>\n",
       "      <td>0.508021</td>\n",
       "    </tr>\n",
       "    <tr>\n",
       "      <th>support_0</th>\n",
       "      <td>1046</td>\n",
       "      <td>1046</td>\n",
       "      <td>449</td>\n",
       "      <td>449</td>\n",
       "    </tr>\n",
       "    <tr>\n",
       "      <th>support_1</th>\n",
       "      <td>2891</td>\n",
       "      <td>2891</td>\n",
       "      <td>1239</td>\n",
       "      <td>1239</td>\n",
       "    </tr>\n",
       "  </tbody>\n",
       "</table>\n",
       "</div>"
      ],
      "text/plain": [
       "                            0         1         0         1\n",
       "model                 knn_n_5  knn_n_10   knn_n_5  knn_n_10\n",
       "accuracy              0.83744   0.82347  0.771919  0.781991\n",
       "true_positive_rate   0.640535   0.51912   0.52784  0.423163\n",
       "false_positive_rate  0.091318  0.066413  0.139629  0.087974\n",
       "true_negative_rate   0.908682  0.933587  0.860371  0.912026\n",
       "false_negative_rate  0.359465   0.48088   0.47216  0.576837\n",
       "precision            0.717345  0.738776  0.578049  0.635452\n",
       "recall               0.640535   0.51912   0.52784  0.423163\n",
       "f1_score             0.676768   0.60977  0.551804  0.508021\n",
       "support_0                1046      1046       449       449\n",
       "support_1                2891      2891      1239      1239"
      ]
     },
     "execution_count": 31,
     "metadata": {},
     "output_type": "execute_result"
    }
   ],
   "source": [
    "compare"
   ]
  },
  {
   "cell_type": "markdown",
   "id": "3c160c08-b13a-42f3-8e34-c77126f5b612",
   "metadata": {},
   "source": [
    "- Looks like the N = 10 KNN model works better on the validate data than n = 5 model\n",
    "- I think I am locking down this model on N = 10. "
   ]
  },
  {
   "cell_type": "markdown",
   "id": "34363b74-b330-4976-8fc3-c06e68ce4490",
   "metadata": {},
   "source": [
    "## Testing the N = 10 KNN model"
   ]
  },
  {
   "cell_type": "code",
   "execution_count": 33,
   "id": "e50c2daf-5896-4a36-a6a4-3db7859a0632",
   "metadata": {},
   "outputs": [],
   "source": [
    "test_predict = {\n",
    "    'model': [],\n",
    "    'accuracy': [],\n",
    "    'true_positive_rate': [],\n",
    "    'false_positive_rate': [],\n",
    "    'true_negative_rate': [],\n",
    "    'false_negative_rate': [],\n",
    "    'precision': [],\n",
    "    'recall': [],\n",
    "    'f1_score': [],\n",
    "    'support_0': [],\n",
    "    'support_1': []\n",
    "}\n",
    "n = 10\n",
    "\n",
    "knn = KNeighborsClassifier(n_neighbors=n)\n",
    "\n",
    "knn.fit(x_train, y_train)\n",
    "\n",
    "y_preds = knn.predict(x_test)\n",
    "\n",
    "TN, FP, FN, TP = confusion_matrix(y_test, y_preds).ravel()\n",
    "ALL = TP + TN + FP + FN\n",
    "\n",
    "accuracy = (TP + TN)/ALL\n",
    "true_positive_rate = TP/(TP+FN)\n",
    "false_positive_rate = FP/(FP+TN)\n",
    "true_negative_rate = TN/(TN+FP)\n",
    "false_negative_rate = FN/(FN+TP)\n",
    "precision = TP/(TP+FP)\n",
    "recall = TP/(TP+FN)\n",
    "f1_score = 2*(precision*recall)/(precision+recall)\n",
    "support_pos = TP + FN\n",
    "support_neg = FP + TN\n",
    "\n",
    "test_predict['model'].append(f'knn_n_{n}')\n",
    "test_predict['accuracy'].append(accuracy)\n",
    "test_predict['true_positive_rate'].append(true_positive_rate)\n",
    "test_predict['false_positive_rate'].append(false_positive_rate)\n",
    "test_predict['true_negative_rate'].append(true_negative_rate)\n",
    "test_predict['false_negative_rate'].append(false_negative_rate)\n",
    "test_predict['precision'].append(precision)\n",
    "test_predict['recall'].append(recall)\n",
    "test_predict['f1_score'].append(f1_score)\n",
    "test_predict['support_0'].append(support_pos)\n",
    "test_predict['support_1'].append(support_neg)\n",
    "\n",
    "test_predict = pd.DataFrame(test_predict).T"
   ]
  },
  {
   "cell_type": "code",
   "execution_count": 89,
   "id": "22a94c42-6b6a-4a67-87f4-3ab55f9092b6",
   "metadata": {},
   "outputs": [
    {
     "data": {
      "text/html": [
       "<div>\n",
       "<style scoped>\n",
       "    .dataframe tbody tr th:only-of-type {\n",
       "        vertical-align: middle;\n",
       "    }\n",
       "\n",
       "    .dataframe tbody tr th {\n",
       "        vertical-align: top;\n",
       "    }\n",
       "\n",
       "    .dataframe thead th {\n",
       "        text-align: right;\n",
       "    }\n",
       "</style>\n",
       "<table border=\"1\" class=\"dataframe\">\n",
       "  <thead>\n",
       "    <tr style=\"text-align: right;\">\n",
       "      <th></th>\n",
       "      <th>0</th>\n",
       "    </tr>\n",
       "  </thead>\n",
       "  <tbody>\n",
       "    <tr>\n",
       "      <th>model</th>\n",
       "      <td>knn_n_10</td>\n",
       "    </tr>\n",
       "    <tr>\n",
       "      <th>accuracy</th>\n",
       "      <td>0.785359</td>\n",
       "    </tr>\n",
       "    <tr>\n",
       "      <th>true_positive_rate</th>\n",
       "      <td>0.451872</td>\n",
       "    </tr>\n",
       "    <tr>\n",
       "      <th>false_positive_rate</th>\n",
       "      <td>0.093901</td>\n",
       "    </tr>\n",
       "    <tr>\n",
       "      <th>true_negative_rate</th>\n",
       "      <td>0.906099</td>\n",
       "    </tr>\n",
       "    <tr>\n",
       "      <th>false_negative_rate</th>\n",
       "      <td>0.548128</td>\n",
       "    </tr>\n",
       "    <tr>\n",
       "      <th>precision</th>\n",
       "      <td>0.635338</td>\n",
       "    </tr>\n",
       "    <tr>\n",
       "      <th>recall</th>\n",
       "      <td>0.451872</td>\n",
       "    </tr>\n",
       "    <tr>\n",
       "      <th>f1_score</th>\n",
       "      <td>0.528125</td>\n",
       "    </tr>\n",
       "    <tr>\n",
       "      <th>support_0</th>\n",
       "      <td>374</td>\n",
       "    </tr>\n",
       "    <tr>\n",
       "      <th>support_1</th>\n",
       "      <td>1033</td>\n",
       "    </tr>\n",
       "  </tbody>\n",
       "</table>\n",
       "</div>"
      ],
      "text/plain": [
       "                            0\n",
       "model                knn_n_10\n",
       "accuracy             0.785359\n",
       "true_positive_rate   0.451872\n",
       "false_positive_rate  0.093901\n",
       "true_negative_rate   0.906099\n",
       "false_negative_rate  0.548128\n",
       "precision            0.635338\n",
       "recall               0.451872\n",
       "f1_score             0.528125\n",
       "support_0                 374\n",
       "support_1                1033"
      ]
     },
     "execution_count": 89,
     "metadata": {},
     "output_type": "execute_result"
    }
   ],
   "source": [
    "test_predict"
   ]
  },
  {
   "cell_type": "code",
   "execution_count": 102,
   "id": "26202b69-816c-4145-a2f8-6d81d1187579",
   "metadata": {},
   "outputs": [
    {
     "data": {
      "text/plain": [
       "0    0.785359\n",
       "Name: accuracy, dtype: object"
      ]
     },
     "execution_count": 102,
     "metadata": {},
     "output_type": "execute_result"
    }
   ],
   "source": [
    "test_predict.T['accuracy'][0]"
   ]
  },
  {
   "cell_type": "code",
   "execution_count": 104,
   "id": "7b758c1e-32ec-473a-9f57-57945335fba5",
   "metadata": {},
   "outputs": [
    {
     "name": "stdout",
     "output_type": "stream",
     "text": [
      "No     0.73463\n",
      "Yes    0.26537\n",
      "Name: churn, dtype: float64 0    0.785359\n",
      "Name: accuracy, dtype: object\n"
     ]
    }
   ],
   "source": [
    "print(f\"{baseline_accuracy} {test_predict.T['accuracy']}\")"
   ]
  },
  {
   "cell_type": "code",
   "execution_count": 115,
   "id": "13df3fd9-1754-49fd-a7ae-85891b73de1f",
   "metadata": {},
   "outputs": [
    {
     "data": {
      "text/plain": [
       "0.7853589196872779"
      ]
     },
     "execution_count": 115,
     "metadata": {},
     "output_type": "execute_result"
    }
   ],
   "source": [
    "{round(test_predict.T['accuracy'][0]*100,2)}%"
   ]
  },
  {
   "cell_type": "code",
   "execution_count": 122,
   "id": "9fe4168e-16b5-4886-bc65-89fce1ab66ae",
   "metadata": {},
   "outputs": [
    {
     "name": "stdout",
     "output_type": "stream",
     "text": [
      "Baseline accuracy = 73.46%\n",
      "KNN model Accuracy = 78.54%\n"
     ]
    }
   ],
   "source": [
    "print(f\"Baseline accuracy = {round(baseline_accuracy[0]*100,2)}%\") \n",
    "print(f\"KNN model Accuracy = {round(test_predict.T['accuracy'][0]*100,2)}%\")"
   ]
  },
  {
   "cell_type": "code",
   "execution_count": null,
   "id": "4ae814d6-beca-4950-93cb-d914638a3054",
   "metadata": {},
   "outputs": [],
   "source": []
  }
 ],
 "metadata": {
  "kernelspec": {
   "display_name": "Python 3 (ipykernel)",
   "language": "python",
   "name": "python3"
  },
  "language_info": {
   "codemirror_mode": {
    "name": "ipython",
    "version": 3
   },
   "file_extension": ".py",
   "mimetype": "text/x-python",
   "name": "python",
   "nbconvert_exporter": "python",
   "pygments_lexer": "ipython3",
   "version": "3.9.13"
  }
 },
 "nbformat": 4,
 "nbformat_minor": 5
}
